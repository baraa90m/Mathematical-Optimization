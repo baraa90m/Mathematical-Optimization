{
 "cells": [
  {
   "metadata": {},
   "cell_type": "markdown",
   "source": [
    "### Getting Started with Gurobipy \n",
    "We consider the following example. We will optimize the following MIP model:\n",
    "\\begin{alignat*}{2}\n",
    "\\text{maximize} \\quad & x + y + 2z \\\\\n",
    "\\text{subject to} \\quad \n",
    "& x + 2y + 3z &\\leq 4 \\\\\n",
    "& x + y &\\geq 1 \\\\\n",
    "& x, y, z &\\in \\{0,1\\}\n",
    "\\end{alignat*}"
   ],
   "id": "1cf7de562abdb460"
  },
  {
   "metadata": {},
   "cell_type": "markdown",
   "source": "#### Case1 (For the Python interface):",
   "id": "f8d7f7e7ed2e833c"
  },
  {
   "metadata": {
    "ExecuteTime": {
     "end_time": "2025-06-10T18:53:04.964877Z",
     "start_time": "2025-06-10T18:53:04.928495Z"
    }
   },
   "cell_type": "code",
   "source": [
    "import gurobipy as gp\n",
    "from gurobipy import GRB\n",
    "\n",
    "try:\n",
    "    # create a new model\n",
    "    m = gp.Model('mip1')\n",
    "    \n",
    "    # create variables\n",
    "    x = m.addVar(vtype=GRB.BINARY, name='x')\n",
    "    y = m.addVar(vtype=GRB.BINARY, name='y')\n",
    "    z = m.addVar(vtype=GRB.BINARY, name='z')\n",
    "    \n",
    "    # Set objective\n",
    "    m.setObjective(x + y + 2*z, GRB.MAXIMIZE)\n",
    "    \n",
    "    # Add constraints\n",
    "    m.addConstr(x + 2*y + 3*z <= 4, name='c1')\n",
    "    m.addConstr(x + y >= 1, name='c2')\n",
    "    \n",
    "    # Optimize Model\n",
    "    m.optimize()\n",
    "    \n",
    "    for v in m.getVars():\n",
    "        print(f\"{v.VarName}: {v.X:g}\")\n",
    "    \n",
    "    print(f'Objective Value: {m.ObjVal:g}')\n",
    "    \n",
    "except gp.GurobiError as e:\n",
    "    print(f\"Error code {e.errno}: {e}\")\n",
    "\n",
    "except AttributeError:\n",
    "    print(\"Encountered an attribute error\")"
   ],
   "id": "23a10064ffa3ef22",
   "outputs": [
    {
     "name": "stdout",
     "output_type": "stream",
     "text": [
      "Gurobi Optimizer version 12.0.0 build v12.0.0rc1 (win64 - Windows 11.0 (26100.2))\n",
      "\n",
      "CPU model: Intel(R) Core(TM) i7-10510U CPU @ 1.80GHz, instruction set [SSE2|AVX|AVX2]\n",
      "Thread count: 4 physical cores, 8 logical processors, using up to 8 threads\n",
      "\n",
      "Optimize a model with 2 rows, 3 columns and 5 nonzeros\n",
      "Model fingerprint: 0x98886187\n",
      "Variable types: 0 continuous, 3 integer (3 binary)\n",
      "Coefficient statistics:\n",
      "  Matrix range     [1e+00, 3e+00]\n",
      "  Objective range  [1e+00, 2e+00]\n",
      "  Bounds range     [1e+00, 1e+00]\n",
      "  RHS range        [1e+00, 4e+00]\n",
      "Found heuristic solution: objective 2.0000000\n",
      "Presolve removed 2 rows and 3 columns\n",
      "Presolve time: 0.00s\n",
      "Presolve: All rows and columns removed\n",
      "\n",
      "Explored 0 nodes (0 simplex iterations) in 0.01 seconds (0.00 work units)\n",
      "Thread count was 1 (of 8 available processors)\n",
      "\n",
      "Solution count 2: 3 2 \n",
      "\n",
      "Optimal solution found (tolerance 1.00e-04)\n",
      "Best objective 3.000000000000e+00, best bound 3.000000000000e+00, gap 0.0000%\n",
      "x: 1\n",
      "y: 0\n",
      "z: 1\n",
      "Objective Value: 3\n"
     ]
    }
   ],
   "execution_count": 13
  },
  {
   "metadata": {},
   "cell_type": "markdown",
   "source": "#### Case2 (For the Python matrix interface):",
   "id": "ff81d50b5b92b249"
  },
  {
   "metadata": {
    "ExecuteTime": {
     "end_time": "2025-06-10T19:16:21.621327Z",
     "start_time": "2025-06-10T19:16:21.594164Z"
    }
   },
   "cell_type": "code",
   "source": [
    "import gurobipy as gp\n",
    "from gurobipy import GRB\n",
    "import numpy as np\n",
    "import scipy.sparse as sp\n",
    "\n",
    "try:\n",
    "    # create a new model\n",
    "    m = gp.Model('mip2')\n",
    "    \n",
    "    # Create variables\n",
    "    x = m.addMVar(shape=3, vtype=GRB.BINARY, name='x')\n",
    "    \n",
    "    # Set objective\n",
    "    obj = np.array([1.0, 1.0, 2.0])\n",
    "    m.setObjective(obj @ x, GRB.MAXIMIZE)\n",
    "    \n",
    "    # Build (sparse) constraint matrix\n",
    "    val = np.array([1.0, 2.0, 3.0, -1.0, -1.0])\n",
    "    row = np.array([0, 0, 0, 1, 1])\n",
    "    col = np.array([0, 1, 2, 0, 1])\n",
    "    \n",
    "    A = sp.csr_matrix((val, (row, col)), shape=(2, 3))\n",
    "    \n",
    "    # Build rhs vector\n",
    "    rhs = np.array([4.0, -1.0])\n",
    "\n",
    "    # Add constraints\n",
    "    m.addConstr(A @ x <= rhs, name=\"c\")\n",
    "\n",
    "    # Optimize model\n",
    "    m.optimize()\n",
    "    \n",
    "    print(x.X)\n",
    "    print(f'Objective Value: {m.ObjVal:g}')\n",
    "    \n",
    "except gp.GurobiError as e:\n",
    "    print(f'Error code {e.error}: {e}.')\n",
    "    \n",
    "except AttributeError:\n",
    "    print(\"Encountered an attribute error.\")"
   ],
   "id": "ade2e59fdfb7f15e",
   "outputs": [
    {
     "name": "stdout",
     "output_type": "stream",
     "text": [
      "Gurobi Optimizer version 12.0.0 build v12.0.0rc1 (win64 - Windows 11.0 (26100.2))\n",
      "\n",
      "CPU model: Intel(R) Core(TM) i7-10510U CPU @ 1.80GHz, instruction set [SSE2|AVX|AVX2]\n",
      "Thread count: 4 physical cores, 8 logical processors, using up to 8 threads\n",
      "\n",
      "Optimize a model with 2 rows, 3 columns and 5 nonzeros\n",
      "Model fingerprint: 0x8d4960d3\n",
      "Variable types: 0 continuous, 3 integer (3 binary)\n",
      "Coefficient statistics:\n",
      "  Matrix range     [1e+00, 3e+00]\n",
      "  Objective range  [1e+00, 2e+00]\n",
      "  Bounds range     [1e+00, 1e+00]\n",
      "  RHS range        [1e+00, 4e+00]\n",
      "Found heuristic solution: objective 2.0000000\n",
      "Presolve removed 2 rows and 3 columns\n",
      "Presolve time: 0.00s\n",
      "Presolve: All rows and columns removed\n",
      "\n",
      "Explored 0 nodes (0 simplex iterations) in 0.01 seconds (0.00 work units)\n",
      "Thread count was 1 (of 8 available processors)\n",
      "\n",
      "Solution count 2: 3 2 \n",
      "\n",
      "Optimal solution found (tolerance 1.00e-04)\n",
      "Best objective 3.000000000000e+00, best bound 3.000000000000e+00, gap 0.0000%\n",
      "[1. 0. 1.]\n",
      "Objective Value: 3\n"
     ]
    }
   ],
   "execution_count": 22
  },
  {
   "metadata": {},
   "cell_type": "code",
   "outputs": [],
   "execution_count": null,
   "source": "",
   "id": "2df9e0ad6e9cf390"
  }
 ],
 "metadata": {
  "kernelspec": {
   "display_name": "Python 3",
   "language": "python",
   "name": "python3"
  },
  "language_info": {
   "codemirror_mode": {
    "name": "ipython",
    "version": 2
   },
   "file_extension": ".py",
   "mimetype": "text/x-python",
   "name": "python",
   "nbconvert_exporter": "python",
   "pygments_lexer": "ipython2",
   "version": "2.7.6"
  }
 },
 "nbformat": 4,
 "nbformat_minor": 5
}
