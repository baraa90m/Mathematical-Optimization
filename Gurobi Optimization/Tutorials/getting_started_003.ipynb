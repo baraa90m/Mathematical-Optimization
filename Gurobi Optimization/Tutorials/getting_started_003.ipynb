{
 "cells": [
  {
   "metadata": {},
   "cell_type": "markdown",
   "source": [
    "### Assignment Problem\n",
    "\n",
    "A fundamental **combinatorial optimization** problem:\n",
    "\n",
    "- There are $n$ **tasks** to be completed.\n",
    "- There are $n$ **workers** available.\n",
    "- Each worker $i$ has an individual **cost** $c_{ij}$ for performing task $j$.\n",
    "\n",
    "#### Goal:\n",
    "Find an assignment of workers to tasks that **minimizes the total cost**.\n",
    "\n",
    "#### Constraints:\n",
    "- Each **worker** can be assigned to **at most one** task.\n",
    "- Each **task** must be assigned to **exactly one** worker."
   ],
   "id": "350a61105a8b2826"
  },
  {
   "metadata": {},
   "cell_type": "markdown",
   "source": [
    "### Mathematical Formulation\n",
    "We define the binary decision variables:\n",
    "\n",
    "$$\n",
    "x_{ij} = \n",
    "\\begin{cases}\n",
    "1, & \\text{if worker } i \\text{ is assigned to task } j \\\\\n",
    "0, & \\text{otherwise}\n",
    "\\end{cases}\n",
    "$$\n",
    "\n",
    "Let $c_{ij}$ be the cost for worker $i$ to perform task $j$.\n",
    "\n",
    "#### Objective:\n",
    "\n",
    "Minimize the total cost:\n",
    "\n",
    "$$\n",
    "\\min \\sum_{i=1}^{n} \\sum_{j=1}^{n} c_{ij} \\cdot x_{ij}\n",
    "$$\n",
    "\n",
    "#### Subject to:\n",
    "\n",
    "Each worker is assigned to at most one task:\n",
    "\n",
    "$$\n",
    "\\sum_{j=1}^{n} x_{ij} \\leq 1 \\quad \\forall i = 1, \\dots, n\n",
    "$$\n",
    "\n",
    "Each task is assigned to exactly one worker:\n",
    "\n",
    "$$\n",
    "\\sum_{i=1}^{n} x_{ij} = 1 \\quad \\forall j = 1, \\dots, n\n",
    "$$\n",
    "\n",
    "Binary constraints:\n",
    "\n",
    "$$\n",
    "x_{ij} \\in \\{0, 1\\} \\quad \\forall i, j = 1, \\dots, n\n",
    "$$"
   ],
   "id": "f40d2b3219f2d139"
  },
  {
   "metadata": {},
   "cell_type": "markdown",
   "source": "### Coding in Python using gurobi",
   "id": "16726e16bff94a0a"
  },
  {
   "metadata": {
    "ExecuteTime": {
     "end_time": "2025-06-12T14:23:10.069774Z",
     "start_time": "2025-06-12T14:23:10.063767Z"
    }
   },
   "cell_type": "code",
   "source": [
    "import numpy as np\n",
    "from gurobipy import GRB, Model\n",
    "\n",
    "# create input data\n",
    "cost = np.random.randint(1, 10, (4,4))"
   ],
   "id": "9c0d94405a99b9ed",
   "outputs": [],
   "execution_count": 49
  },
  {
   "metadata": {
    "ExecuteTime": {
     "end_time": "2025-06-12T14:23:11.190038Z",
     "start_time": "2025-06-12T14:23:11.184695Z"
    }
   },
   "cell_type": "code",
   "source": [
    "# create the model\n",
    "assignment_model = Model('assignment')"
   ],
   "id": "d1bf2e7921f0fed2",
   "outputs": [],
   "execution_count": 50
  },
  {
   "metadata": {
    "ExecuteTime": {
     "end_time": "2025-06-12T14:23:11.813423Z",
     "start_time": "2025-06-12T14:23:11.808879Z"
    }
   },
   "cell_type": "code",
   "source": [
    "# create the decision variables\n",
    "x = assignment_model.addVars(cost.shape[0],\n",
    "                             cost.shape[1],\n",
    "                             vtype = GRB.BINARY,\n",
    "                             name = 'x')"
   ],
   "id": "b9341aaf7d0a6d66",
   "outputs": [],
   "execution_count": 51
  },
  {
   "metadata": {
    "ExecuteTime": {
     "end_time": "2025-06-12T14:23:12.396219Z",
     "start_time": "2025-06-12T14:23:12.382258Z"
    }
   },
   "cell_type": "code",
   "source": [
    "# add the constraints\n",
    "assignment_model.addConstrs((sum(x[i,j] for i in range(cost.shape[0])) <= 1\n",
    "                           for j in range(cost.shape[1])),\n",
    "                           name = 'c1')\n",
    "\n",
    "assignment_model.addConstrs((sum(x[i,j] for j in range(cost.shape[1])) == 1\n",
    "                            for i in range(cost.shape[0])),\n",
    "                           name = 'c2')"
   ],
   "id": "8795603a721944c",
   "outputs": [
    {
     "data": {
      "text/plain": [
       "{0: <gurobi.Constr *Awaiting Model Update*>,\n",
       " 1: <gurobi.Constr *Awaiting Model Update*>,\n",
       " 2: <gurobi.Constr *Awaiting Model Update*>,\n",
       " 3: <gurobi.Constr *Awaiting Model Update*>}"
      ]
     },
     "execution_count": 52,
     "metadata": {},
     "output_type": "execute_result"
    }
   ],
   "execution_count": 52
  },
  {
   "metadata": {
    "ExecuteTime": {
     "end_time": "2025-06-12T14:23:13.073888Z",
     "start_time": "2025-06-12T14:23:13.068691Z"
    }
   },
   "cell_type": "code",
   "source": [
    "# Set the objective function\n",
    "obj_fn = sum(cost[i,j]*x[i,j] for i in range(cost.shape[0]) for j in range(cost.shape[1]))\n",
    "assignment_model.setObjective(obj_fn, GRB.MINIMIZE)"
   ],
   "id": "8ffdb4af0a79f325",
   "outputs": [],
   "execution_count": 53
  },
  {
   "metadata": {
    "ExecuteTime": {
     "end_time": "2025-06-12T14:25:58.484135Z",
     "start_time": "2025-06-12T14:25:58.454939Z"
    }
   },
   "cell_type": "code",
   "source": [
    "# solve the model\n",
    "assignment_model.setParam('OutputFlag', 1)\n",
    "assignment_model.optimize()"
   ],
   "id": "3eed7ec2885d0095",
   "outputs": [
    {
     "name": "stdout",
     "output_type": "stream",
     "text": [
      "Set parameter OutputFlag to value 1\n",
      "Gurobi Optimizer version 12.0.0 build v12.0.0rc1 (win64 - Windows 11.0 (26100.2))\n",
      "\n",
      "CPU model: Intel(R) Core(TM) i7-10510U CPU @ 1.80GHz, instruction set [SSE2|AVX|AVX2]\n",
      "Thread count: 4 physical cores, 8 logical processors, using up to 8 threads\n",
      "\n",
      "Optimize a model with 8 rows, 16 columns and 32 nonzeros\n",
      "Model fingerprint: 0x6df63a93\n",
      "Variable types: 0 continuous, 16 integer (16 binary)\n",
      "Coefficient statistics:\n",
      "  Matrix range     [1e+00, 1e+00]\n",
      "  Objective range  [1e+00, 9e+00]\n",
      "  Bounds range     [1e+00, 1e+00]\n",
      "  RHS range        [1e+00, 1e+00]\n",
      "Presolved: 8 rows, 16 columns, 32 nonzeros\n",
      "\n",
      "Continuing optimization...\n",
      "\n",
      "\n",
      "Explored 1 nodes (7 simplex iterations) in 0.01 seconds (0.00 work units)\n",
      "Thread count was 8 (of 8 available processors)\n",
      "\n",
      "Solution count 2: 13 26 \n",
      "\n",
      "Optimal solution found (tolerance 1.00e-04)\n",
      "Best objective 1.300000000000e+01, best bound 1.300000000000e+01, gap 0.0000%\n",
      "Model Statistics:\n",
      "Statistics for model 'assignment':\n",
      "  Problem type                : MIP\n",
      "  Linear constraint matrix    : 8 rows, 16 columns, 32 nonzeros\n",
      "  Variable types              : 0 continuous, 16 integer (16 binary)\n",
      "  Matrix range                : [1e+00, 1e+00]\n",
      "  Objective range             : [1e+00, 9e+00]\n",
      "  Bounds range                : [1e+00, 1e+00]\n",
      "  RHS range                   : [1e+00, 1e+00]\n",
      "\n",
      "\n",
      "Model Output:\n",
      "Optimal objective value: 13.0\n",
      "x[0,0] = 1.0\n",
      "x[0,1] = -0.0\n",
      "x[0,2] = -0.0\n",
      "x[0,3] = -0.0\n",
      "x[1,0] = 0.0\n",
      "x[1,1] = 0.0\n",
      "x[1,2] = 0.0\n",
      "x[1,3] = 1.0\n",
      "x[2,0] = -0.0\n",
      "x[2,1] = -0.0\n",
      "x[2,2] = 1.0\n",
      "x[2,3] = -0.0\n",
      "x[3,0] = -0.0\n",
      "x[3,1] = 1.0\n",
      "x[3,2] = -0.0\n",
      "x[3,3] = -0.0\n"
     ]
    }
   ],
   "execution_count": 61
  },
  {
   "metadata": {
    "ExecuteTime": {
     "end_time": "2025-06-12T14:26:24.261562Z",
     "start_time": "2025-06-12T14:26:24.245690Z"
    }
   },
   "cell_type": "code",
   "source": [
    "#statistics of the solution\n",
    "\n",
    "print('Model Statistics:')\n",
    "assignment_model.printStats()"
   ],
   "id": "64d300145890d52f",
   "outputs": [
    {
     "name": "stdout",
     "output_type": "stream",
     "text": [
      "Model Statistics:\n",
      "--------------------\n",
      "Statistics for model 'assignment':\n",
      "  Problem type                : MIP\n",
      "  Linear constraint matrix    : 8 rows, 16 columns, 32 nonzeros\n",
      "  Variable types              : 0 continuous, 16 integer (16 binary)\n",
      "  Matrix range                : [1e+00, 1e+00]\n",
      "  Objective range             : [1e+00, 9e+00]\n",
      "  Bounds range                : [1e+00, 1e+00]\n",
      "  RHS range                   : [1e+00, 1e+00]\n"
     ]
    }
   ],
   "execution_count": 64
  },
  {
   "metadata": {
    "ExecuteTime": {
     "end_time": "2025-06-12T14:26:51.091253Z",
     "start_time": "2025-06-12T14:26:51.085351Z"
    }
   },
   "cell_type": "code",
   "source": [
    "# outputs of the solution\n",
    "\n",
    "print('\\n\\nModel Output:')\n",
    "if assignment_model.status == GRB.OPTIMAL:\n",
    "    print(f\"Optimal objective value: {assignment_model.objVal}\")\n",
    "    for var in assignment_model.getVars():\n",
    "        print(f\"{var.varName} = {var.x}\")\n",
    "else:\n",
    "    print(\"Model did not converge to an optimal solution.\")"
   ],
   "id": "f5cd0a77763f8cb3",
   "outputs": [
    {
     "name": "stdout",
     "output_type": "stream",
     "text": [
      "\n",
      "\n",
      "Model Output:\n",
      "Optimal objective value: 13.0\n",
      "x[0,0] = 1.0\n",
      "x[0,1] = -0.0\n",
      "x[0,2] = -0.0\n",
      "x[0,3] = -0.0\n",
      "x[1,0] = 0.0\n",
      "x[1,1] = 0.0\n",
      "x[1,2] = 0.0\n",
      "x[1,3] = 1.0\n",
      "x[2,0] = -0.0\n",
      "x[2,1] = -0.0\n",
      "x[2,2] = 1.0\n",
      "x[2,3] = -0.0\n",
      "x[3,0] = -0.0\n",
      "x[3,1] = 1.0\n",
      "x[3,2] = -0.0\n",
      "x[3,3] = -0.0\n"
     ]
    }
   ],
   "execution_count": 65
  },
  {
   "metadata": {
    "ExecuteTime": {
     "end_time": "2025-06-12T14:29:43.629401Z",
     "start_time": "2025-06-12T14:29:43.622249Z"
    }
   },
   "cell_type": "code",
   "source": [
    "# show the variables that are used for the optimal solution\n",
    "\n",
    "print('Objective Function Value: %.2f' % assignment_model.objVal)\n",
    "\n",
    "# get values of the decision variables\n",
    "for v in assignment_model.getVars():\n",
    "    if v.x > 0:\n",
    "        print(f'{v.varName}: {v.x}')"
   ],
   "id": "63ec3b16630e9b26",
   "outputs": [
    {
     "name": "stdout",
     "output_type": "stream",
     "text": [
      "Objective Function Value: 13.00\n",
      "x[0,0]: 1.0\n",
      "x[1,3]: 1.0\n",
      "x[2,2]: 1.0\n",
      "x[3,1]: 1.0\n"
     ]
    }
   ],
   "execution_count": 66
  },
  {
   "metadata": {},
   "cell_type": "markdown",
   "source": "### Relaxing the binary constraint",
   "id": "668b0f9567915188"
  },
  {
   "metadata": {},
   "cell_type": "markdown",
   "source": [
    "If we relax the binary decision variables to continuous variables, we will obtain the same solution.\n",
    "This is because the constraints matrix is totally unimodular.<br>\n",
    "We will check this by doing the following:"
   ],
   "id": "55c2eaa20af51912"
  },
  {
   "metadata": {
    "ExecuteTime": {
     "end_time": "2025-06-12T14:45:20.016539Z",
     "start_time": "2025-06-12T14:45:19.984665Z"
    }
   },
   "cell_type": "code",
   "source": [
    "assignment_model_2 = Model('assignment_2')\n",
    "\n",
    "x = assignment_model_2.addVars(cost.shape[0],\n",
    "                             cost.shape[1],\n",
    "                             vtype = GRB.CONTINUOUS,\n",
    "                             lb = 0, \n",
    "                             ub = 1,\n",
    "                             name = 'x')\n",
    "\n",
    "assignment_model_2.addConstrs((sum(x[i,j] for i in range(cost.shape[0])) <= 1\n",
    "                           for j in range(cost.shape[1])),\n",
    "                           name = 'work_load')\n",
    "\n",
    "assignment_model_2.addConstrs((sum(x[i,j] for j in range(cost.shape[1])) == 1\n",
    "                            for i in range(cost.shape[0])),\n",
    "                           name = 'task_completion')\n",
    "\n",
    "obj_fn = sum(cost[i,j]*x[i,j] for i in range(cost.shape[0]) for j in range(cost.shape[1]))\n",
    "assignment_model_2.setObjective(obj_fn, GRB.MINIMIZE)\n",
    "\n",
    "\n",
    "assignment_model_2.setParam('OutputFlag', 1)\n",
    "assignment_model_2.optimize()"
   ],
   "id": "767d2e826f9f4bf2",
   "outputs": [
    {
     "name": "stdout",
     "output_type": "stream",
     "text": [
      "Set parameter OutputFlag to value 1\n",
      "Gurobi Optimizer version 12.0.0 build v12.0.0rc1 (win64 - Windows 11.0 (26100.2))\n",
      "\n",
      "CPU model: Intel(R) Core(TM) i7-10510U CPU @ 1.80GHz, instruction set [SSE2|AVX|AVX2]\n",
      "Thread count: 4 physical cores, 8 logical processors, using up to 8 threads\n",
      "\n",
      "Optimize a model with 8 rows, 16 columns and 32 nonzeros\n",
      "Model fingerprint: 0xe44c9c08\n",
      "Coefficient statistics:\n",
      "  Matrix range     [1e+00, 1e+00]\n",
      "  Objective range  [1e+00, 9e+00]\n",
      "  Bounds range     [1e+00, 1e+00]\n",
      "  RHS range        [1e+00, 1e+00]\n",
      "Presolve time: 0.01s\n",
      "Presolved: 8 rows, 16 columns, 32 nonzeros\n",
      "\n",
      "Iteration    Objective       Primal Inf.    Dual Inf.      Time\n",
      "       0    1.0000000e+01   1.000000e+00   0.000000e+00      0s\n",
      "       3    1.3000000e+01   0.000000e+00   0.000000e+00      0s\n",
      "\n",
      "Solved in 3 iterations and 0.01 seconds (0.00 work units)\n",
      "Optimal objective  1.300000000e+01\n"
     ]
    }
   ],
   "execution_count": 74
  },
  {
   "metadata": {
    "ExecuteTime": {
     "end_time": "2025-06-12T14:45:26.466309Z",
     "start_time": "2025-06-12T14:45:26.457229Z"
    }
   },
   "cell_type": "code",
   "source": [
    "print('Model Statistics:')\n",
    "assignment_model_2.printStats()"
   ],
   "id": "fd929dd93cc03844",
   "outputs": [
    {
     "name": "stdout",
     "output_type": "stream",
     "text": [
      "Model Statistics:\n",
      "Statistics for model 'assignment_2':\n",
      "  Problem type                : LP\n",
      "  Linear constraint matrix    : 8 rows, 16 columns, 32 nonzeros\n",
      "  Variable types              : 16 continuous, 0 integer (0 binary)\n",
      "  Matrix range                : [1e+00, 1e+00]\n",
      "  Objective range             : [1e+00, 9e+00]\n",
      "  Bounds range                : [1e+00, 1e+00]\n",
      "  RHS range                   : [1e+00, 1e+00]\n"
     ]
    }
   ],
   "execution_count": 75
  },
  {
   "metadata": {
    "ExecuteTime": {
     "end_time": "2025-06-12T14:45:41.198404Z",
     "start_time": "2025-06-12T14:45:41.193656Z"
    }
   },
   "cell_type": "code",
   "source": [
    "print('\\n\\nModel Output:')\n",
    "if assignment_model_2.status == GRB.OPTIMAL:\n",
    "    print(f\"Optimal objective value: {assignment_model.objVal}\")\n",
    "    for var in assignment_model_2.getVars():\n",
    "        print(f\"{var.varName} = {var.x}\")\n",
    "else:\n",
    "    print(\"Model did not converge to an optimal solution.\")"
   ],
   "id": "e6de68a45d4ac7b7",
   "outputs": [
    {
     "name": "stdout",
     "output_type": "stream",
     "text": [
      "\n",
      "\n",
      "Model Output:\n",
      "Optimal objective value: 13.0\n",
      "x[0,0] = 1.0\n",
      "x[0,1] = 0.0\n",
      "x[0,2] = 0.0\n",
      "x[0,3] = 0.0\n",
      "x[1,0] = 0.0\n",
      "x[1,1] = 0.0\n",
      "x[1,2] = 0.0\n",
      "x[1,3] = 1.0\n",
      "x[2,0] = 0.0\n",
      "x[2,1] = 0.0\n",
      "x[2,2] = 1.0\n",
      "x[2,3] = 0.0\n",
      "x[3,0] = 0.0\n",
      "x[3,1] = 1.0\n",
      "x[3,2] = 0.0\n",
      "x[3,3] = 0.0\n"
     ]
    }
   ],
   "execution_count": 76
  },
  {
   "metadata": {
    "ExecuteTime": {
     "end_time": "2025-06-12T14:46:10.652004Z",
     "start_time": "2025-06-12T14:46:10.646525Z"
    }
   },
   "cell_type": "code",
   "source": [
    "print('Objective Function Value: %.2f' % assignment_model.objVal)\n",
    "\n",
    "# get values of the decision variables\n",
    "for v in assignment_model_2.getVars():\n",
    "    if v.x > 0:\n",
    "        print(f'{v.varName}: {v.x}')"
   ],
   "id": "b1ed84d87a8c31d7",
   "outputs": [
    {
     "name": "stdout",
     "output_type": "stream",
     "text": [
      "Objective Function Value: 13.00\n",
      "x[0,0]: 1.0\n",
      "x[1,3]: 1.0\n",
      "x[2,2]: 1.0\n",
      "x[3,1]: 1.0\n"
     ]
    }
   ],
   "execution_count": 77
  },
  {
   "metadata": {},
   "cell_type": "markdown",
   "source": "Remark: LP-Relaxation is valid for linear assignment problem.",
   "id": "158928d24cfe013b"
  },
  {
   "metadata": {
    "ExecuteTime": {
     "end_time": "2025-06-12T15:34:26.083398Z",
     "start_time": "2025-06-12T15:34:26.071074Z"
    }
   },
   "cell_type": "code",
   "source": "assignment_model.printAttr('X')",
   "id": "dfd1e726353a9f29",
   "outputs": [
    {
     "name": "stdout",
     "output_type": "stream",
     "text": [
      "\n",
      "    Variable            X \n",
      "-------------------------\n",
      "      x[0,0]            1 \n",
      "      x[1,3]            1 \n",
      "      x[2,2]            1 \n",
      "      x[3,1]            1 \n"
     ]
    }
   ],
   "execution_count": 79
  },
  {
   "metadata": {
    "ExecuteTime": {
     "end_time": "2025-06-12T15:34:38.445886Z",
     "start_time": "2025-06-12T15:34:38.437426Z"
    }
   },
   "cell_type": "code",
   "source": "assignment_model_2.printAttr('X')",
   "id": "b7e5267ebf4f6487",
   "outputs": [
    {
     "name": "stdout",
     "output_type": "stream",
     "text": [
      "\n",
      "    Variable            X \n",
      "-------------------------\n",
      "      x[0,0]            1 \n",
      "      x[1,3]            1 \n",
      "      x[2,2]            1 \n",
      "      x[3,1]            1 \n"
     ]
    }
   ],
   "execution_count": 80
  },
  {
   "metadata": {},
   "cell_type": "code",
   "outputs": [],
   "execution_count": null,
   "source": "",
   "id": "c455e7a51050a595"
  }
 ],
 "metadata": {
  "kernelspec": {
   "display_name": "Python 3",
   "language": "python",
   "name": "python3"
  },
  "language_info": {
   "codemirror_mode": {
    "name": "ipython",
    "version": 2
   },
   "file_extension": ".py",
   "mimetype": "text/x-python",
   "name": "python",
   "nbconvert_exporter": "python",
   "pygments_lexer": "ipython2",
   "version": "2.7.6"
  }
 },
 "nbformat": 4,
 "nbformat_minor": 5
}
