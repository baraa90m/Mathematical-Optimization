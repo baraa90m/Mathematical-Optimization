{
 "cells": [
  {
   "cell_type": "markdown",
   "id": "89127ca907fd03a3",
   "metadata": {},
   "source": [
    "\n",
    "### Python list comprehension"
   ]
  },
  {
   "cell_type": "code",
   "execution_count": 2,
   "id": "b0af2f54a30b66ef",
   "metadata": {
    "ExecuteTime": {
     "end_time": "2025-07-09T14:46:38.099140Z",
     "start_time": "2025-07-09T14:46:38.034635Z"
    }
   },
   "outputs": [],
   "source": [
    "from gurobipy import *"
   ]
  },
  {
   "cell_type": "code",
   "execution_count": 6,
   "id": "a55c78d8c89613bb",
   "metadata": {
    "ExecuteTime": {
     "end_time": "2025-07-09T14:44:12.167923Z",
     "start_time": "2025-07-09T14:44:12.162885Z"
    }
   },
   "outputs": [
    {
     "data": {
      "text/plain": [
       "[0, 1, 4, 9, 16, 25]"
      ]
     },
     "execution_count": 6,
     "metadata": {},
     "output_type": "execute_result"
    }
   ],
   "source": [
    "# List comprehension\n",
    "squares = [i**2 for i in range(6)]\n",
    "squares"
   ]
  },
  {
   "cell_type": "code",
   "execution_count": 10,
   "id": "3d39eb5c193e37d2",
   "metadata": {
    "ExecuteTime": {
     "end_time": "2025-07-09T14:44:46.742867Z",
     "start_time": "2025-07-09T14:44:46.737990Z"
    }
   },
   "outputs": [
    {
     "data": {
      "text/plain": [
       "55"
      ]
     },
     "execution_count": 10,
     "metadata": {},
     "output_type": "execute_result"
    }
   ],
   "source": [
    "# Generator expression\n",
    "SumSquares = sum(i**2 for i in range(6))\n",
    "SumSquares"
   ]
  },
  {
   "cell_type": "code",
   "execution_count": 12,
   "id": "a9d5601b8486a2c5",
   "metadata": {
    "ExecuteTime": {
     "end_time": "2025-07-09T14:42:47.248547Z",
     "start_time": "2025-07-09T14:42:47.243940Z"
    }
   },
   "outputs": [
    {
     "data": {
      "text/plain": [
       "[(0, 1), (0, 2), (1, 2), (0, 3), (1, 3), (2, 3)]"
      ]
     },
     "execution_count": 12,
     "metadata": {},
     "output_type": "execute_result"
    }
   ],
   "source": [
    "pairs = [(i, j) for j in range(4) for i in range(j)]\n",
    "pairs"
   ]
  },
  {
   "cell_type": "code",
   "execution_count": 14,
   "id": "78685086e93622ee",
   "metadata": {
    "ExecuteTime": {
     "end_time": "2025-07-09T14:43:34.956137Z",
     "start_time": "2025-07-09T14:43:34.951443Z"
    }
   },
   "outputs": [
    {
     "data": {
      "text/plain": [
       "[2, 3, 5, 6, 7, 8]"
      ]
     },
     "execution_count": 14,
     "metadata": {},
     "output_type": "execute_result"
    }
   ],
   "source": [
    "Nonsquares = [i for i in range(10) if i not in squares]\n",
    "Nonsquares"
   ]
  },
  {
   "cell_type": "markdown",
   "id": "d182be260457bbf1",
   "metadata": {},
   "source": [
    "The Gurobi interface takes advantage of lists, list comprehension and generator expressions:\n",
    "\n",
    "A Gurobi class to store lists of tuples"
   ]
  },
  {
   "cell_type": "code",
   "execution_count": 16,
   "id": "e46ee553226d91c1",
   "metadata": {
    "ExecuteTime": {
     "end_time": "2025-07-09T14:47:37.114508Z",
     "start_time": "2025-07-09T14:47:37.107542Z"
    }
   },
   "outputs": [
    {
     "data": {
      "text/plain": [
       "<gurobi.tuplelist (5 tuples, 2 values each):\n",
       " ( A , B )\n",
       " ( A , C )\n",
       " ( B , C )\n",
       " ( B , D )\n",
       " ( C , D )\n",
       ">"
      ]
     },
     "execution_count": 16,
     "metadata": {},
     "output_type": "execute_result"
    }
   ],
   "source": [
    "Cities = ['A', 'B', 'C', 'D']\n",
    "Routes = tuplelist([('A', 'B'), ('A', 'C'), ('B', 'C'), ('B', 'D'), ('C', 'D')])\n",
    "Routes"
   ]
  },
  {
   "cell_type": "markdown",
   "id": "f2b0c609e6d3b30c",
   "metadata": {},
   "source": [
    "What makes it special: select statement for efficient filtering"
   ]
  },
  {
   "cell_type": "code",
   "execution_count": 9,
   "id": "c34feecca2ac40f6",
   "metadata": {
    "ExecuteTime": {
     "end_time": "2025-07-09T14:48:38.728680Z",
     "start_time": "2025-07-09T14:48:38.724319Z"
    }
   },
   "outputs": [
    {
     "name": "stdout",
     "output_type": "stream",
     "text": [
      "<gurobi.tuplelist (2 tuples, 2 values each):\n",
      " ( A , B )\n",
      " ( A , C )\n",
      ">\n",
      "<gurobi.tuplelist (2 tuples, 2 values each):\n",
      " ( B , C )\n",
      " ( B , D )\n",
      ">\n",
      "<gurobi.tuplelist (1 tuples, 2 values each):\n",
      " ( C , D )\n",
      ">\n",
      "[]\n"
     ]
    }
   ],
   "source": [
    "for c in Cities:\n",
    "    print(Routes.select(c, '*'))"
   ]
  },
  {
   "cell_type": "markdown",
   "id": "69663073b7013302",
   "metadata": {},
   "source": [
    "The tuplelist is indexed to make select() efficient"
   ]
  },
  {
   "cell_type": "markdown",
   "id": "be0a4cc83a6c359e",
   "metadata": {},
   "source": [
    "### Indexed variables: Model.addVars"
   ]
  },
  {
   "cell_type": "code",
   "execution_count": 24,
   "id": "3f63748311029fb9",
   "metadata": {
    "ExecuteTime": {
     "end_time": "2025-07-09T14:56:52.691020Z",
     "start_time": "2025-07-09T14:56:52.673157Z"
    }
   },
   "outputs": [
    {
     "data": {
      "text/plain": [
       "{(0, 0): <gurobi.Var *Awaiting Model Update*>,\n",
       " (0, 1): <gurobi.Var *Awaiting Model Update*>,\n",
       " (0, 2): <gurobi.Var *Awaiting Model Update*>,\n",
       " (1, 0): <gurobi.Var *Awaiting Model Update*>,\n",
       " (1, 1): <gurobi.Var *Awaiting Model Update*>,\n",
       " (1, 2): <gurobi.Var *Awaiting Model Update*>}"
      ]
     },
     "execution_count": 24,
     "metadata": {},
     "output_type": "execute_result"
    }
   ],
   "source": [
    "# Using integers\n",
    "m = Model(\"model 1\")\n",
    "x = m.addVars(2, 3, name = 'x')\n",
    "x"
   ]
  },
  {
   "cell_type": "code",
   "execution_count": 20,
   "id": "18f4a45a6f9bed85",
   "metadata": {
    "ExecuteTime": {
     "end_time": "2025-07-09T14:57:58.629178Z",
     "start_time": "2025-07-09T14:57:58.621191Z"
    }
   },
   "outputs": [
    {
     "data": {
      "text/plain": [
       "{('A', 'A'): <gurobi.Var *Awaiting Model Update*>,\n",
       " ('A', 'B'): <gurobi.Var *Awaiting Model Update*>,\n",
       " ('A', 'C'): <gurobi.Var *Awaiting Model Update*>,\n",
       " ('A', 'D'): <gurobi.Var *Awaiting Model Update*>,\n",
       " ('B', 'A'): <gurobi.Var *Awaiting Model Update*>,\n",
       " ('B', 'B'): <gurobi.Var *Awaiting Model Update*>,\n",
       " ('B', 'C'): <gurobi.Var *Awaiting Model Update*>,\n",
       " ('B', 'D'): <gurobi.Var *Awaiting Model Update*>,\n",
       " ('C', 'A'): <gurobi.Var *Awaiting Model Update*>,\n",
       " ('C', 'B'): <gurobi.Var *Awaiting Model Update*>,\n",
       " ('C', 'C'): <gurobi.Var *Awaiting Model Update*>,\n",
       " ('C', 'D'): <gurobi.Var *Awaiting Model Update*>,\n",
       " ('D', 'A'): <gurobi.Var *Awaiting Model Update*>,\n",
       " ('D', 'B'): <gurobi.Var *Awaiting Model Update*>,\n",
       " ('D', 'C'): <gurobi.Var *Awaiting Model Update*>,\n",
       " ('D', 'D'): <gurobi.Var *Awaiting Model Update*>}"
      ]
     },
     "execution_count": 20,
     "metadata": {},
     "output_type": "execute_result"
    }
   ],
   "source": [
    "# Using lists of scalars\n",
    "m = Model(\"model 2\")\n",
    "y = m.addVars(Cities, Cities, name = 'y')\n",
    "y"
   ]
  },
  {
   "cell_type": "code",
   "execution_count": 22,
   "id": "ba563e4db98e2ac1",
   "metadata": {
    "ExecuteTime": {
     "end_time": "2025-07-09T14:58:49.865688Z",
     "start_time": "2025-07-09T14:58:49.858886Z"
    }
   },
   "outputs": [
    {
     "data": {
      "text/plain": [
       "{('A', 'B'): <gurobi.Var *Awaiting Model Update*>,\n",
       " ('A', 'C'): <gurobi.Var *Awaiting Model Update*>,\n",
       " ('B', 'C'): <gurobi.Var *Awaiting Model Update*>,\n",
       " ('B', 'D'): <gurobi.Var *Awaiting Model Update*>,\n",
       " ('C', 'D'): <gurobi.Var *Awaiting Model Update*>}"
      ]
     },
     "execution_count": 22,
     "metadata": {},
     "output_type": "execute_result"
    }
   ],
   "source": [
    "# Using a tuplelist\n",
    "z = m.addVars(Routes, name = 'z')\n",
    "z"
   ]
  },
  {
   "cell_type": "code",
   "execution_count": 26,
   "id": "86b31b323d20df6f",
   "metadata": {
    "ExecuteTime": {
     "end_time": "2025-07-09T14:59:55.966837Z",
     "start_time": "2025-07-09T14:59:55.960300Z"
    }
   },
   "outputs": [
    {
     "data": {
      "text/plain": [
       "{0: <gurobi.Var *Awaiting Model Update*>,\n",
       " 1: <gurobi.Var *Awaiting Model Update*>,\n",
       " 3: <gurobi.Var *Awaiting Model Update*>,\n",
       " 4: <gurobi.Var *Awaiting Model Update*>}"
      ]
     },
     "execution_count": 26,
     "metadata": {},
     "output_type": "execute_result"
    }
   ],
   "source": [
    "# Using a generator expression(!)\n",
    "w = m.addVars((i for i in range(5) if i != 2), name = 'w')\n",
    "w"
   ]
  },
  {
   "cell_type": "markdown",
   "id": "c0c1a2de-867f-4632-8498-5a932c5d9cd1",
   "metadata": {},
   "source": [
    "### Indexed constraints: Model.addConstrs()"
   ]
  },
  {
   "cell_type": "code",
   "execution_count": 40,
   "id": "cd2a2136-70cc-4f06-9241-9848d7296aa0",
   "metadata": {},
   "outputs": [
    {
     "data": {
      "text/plain": [
       "{('A', 'B'): <gurobi.Constr *Awaiting Model Update*>,\n",
       " ('A', 'C'): <gurobi.Constr *Awaiting Model Update*>,\n",
       " ('B', 'C'): <gurobi.Constr *Awaiting Model Update*>,\n",
       " ('B', 'D'): <gurobi.Constr *Awaiting Model Update*>,\n",
       " ('C', 'D'): <gurobi.Constr *Awaiting Model Update*>}"
      ]
     },
     "execution_count": 40,
     "metadata": {},
     "output_type": "execute_result"
    }
   ],
   "source": [
    "# Using a generator expression\n",
    "m = Model(\"model\")\n",
    "\n",
    "x = m.addVars(Routes, name = \"x\")\n",
    "y = m.addVars(Routes, name = \"y\")\n",
    "\n",
    "m.addConstrs((x[i,j] + y[i,j] <= 2 for i,j in Routes), name = \"capacity\")"
   ]
  },
  {
   "cell_type": "markdown",
   "id": "e01ee754-b63b-4b09-9d55-30f529cc55aa",
   "metadata": {},
   "source": [
    "### Aggregate sum operator: Full"
   ]
  },
  {
   "cell_type": "code",
   "execution_count": null,
   "id": "d513c4fd-6f75-4af9-b595-8cbb6f3a390d",
   "metadata": {},
   "outputs": [],
   "source": [
    "# Using generator expression inside a quicksum function \n",
    "\n",
    "obj = quicksum(cost[i,j]*x[i,j] for i,j in arcs) \n",
    "\n",
    "# Remark: quicksum works just like Python's sum function, but it is more efficient for optimization models.  "
   ]
  },
  {
   "cell_type": "markdown",
   "id": "30b93806-2621-45a9-843f-909939061767",
   "metadata": {},
   "source": [
    "### Aggregate sum: Simple"
   ]
  },
  {
   "cell_type": "code",
   "execution_count": null,
   "id": "f05a44ba-1c2b-45cf-9be2-700366e7df21",
   "metadata": {},
   "outputs": [],
   "source": [
    "# A tupledict of variables has a sum function, using the same syntax as tuplelist.select()\n",
    "\n",
    "x = m.addVars(3, 4, vtype = GRB.BINARY, name = \"x\")\n",
    "m.addConstrs(x.sum(i, \"*\") <= 1 for i in range(3))"
   ]
  },
  {
   "cell_type": "code",
   "execution_count": 44,
   "id": "10248acb-6c3d-40cf-84be-8ce05285afae",
   "metadata": {},
   "outputs": [],
   "source": [
    "# The above example generators the constraints:\n",
    "\n",
    "x[0,0] + x[0, 1] + x[0, 2] + x[0, 3] <= 1\n",
    "x[1,0] + x[1, 1] + x[1, 2] + x[1, 3] <= 1\n",
    "x[2,0] + x[2, 1] + x[2, 2] + x[2, 3] <= 1"
   ]
  },
  {
   "cell_type": "code",
   "execution_count": null,
   "id": "6dec6266-7da5-4f73-ae42-3940be2a234f",
   "metadata": {},
   "outputs": [],
   "source": [
    "# Dot product\n",
    "# A tuple of variables has a prod() function to compute the dot product\n",
    "\n",
    "# If cost is a dictionary, then the following are equivalent:\n",
    "\n",
    "obj = quicksum(cost[i,j]*x[i,j] for i,j in arcs)\n",
    "obj = x.prod(cost)"
   ]
  }
 ],
 "metadata": {
  "kernelspec": {
   "display_name": "Python 3 (ipykernel)",
   "language": "python",
   "name": "python3"
  },
  "language_info": {
   "codemirror_mode": {
    "name": "ipython",
    "version": 3
   },
   "file_extension": ".py",
   "mimetype": "text/x-python",
   "name": "python",
   "nbconvert_exporter": "python",
   "pygments_lexer": "ipython3",
   "version": "3.12.4"
  }
 },
 "nbformat": 4,
 "nbformat_minor": 5
}
