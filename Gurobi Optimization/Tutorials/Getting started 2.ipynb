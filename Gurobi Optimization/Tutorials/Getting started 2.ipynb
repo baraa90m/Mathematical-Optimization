{
 "cells": [
  {
   "metadata": {},
   "cell_type": "markdown",
   "source": [
    "\n",
    "### Python list comprehension"
   ],
   "id": "89127ca907fd03a3"
  },
  {
   "metadata": {
    "ExecuteTime": {
     "end_time": "2025-07-09T14:46:38.099140Z",
     "start_time": "2025-07-09T14:46:38.034635Z"
    }
   },
   "cell_type": "code",
   "source": "from gurobipy import *",
   "id": "b0af2f54a30b66ef",
   "outputs": [],
   "execution_count": 7
  },
  {
   "metadata": {
    "ExecuteTime": {
     "end_time": "2025-07-09T14:44:12.167923Z",
     "start_time": "2025-07-09T14:44:12.162885Z"
    }
   },
   "cell_type": "code",
   "source": [
    "# List comprehension\n",
    "squares = [i**2 for i in range(6)]"
   ],
   "id": "a55c78d8c89613bb",
   "outputs": [],
   "execution_count": 5
  },
  {
   "metadata": {
    "ExecuteTime": {
     "end_time": "2025-07-09T14:44:46.742867Z",
     "start_time": "2025-07-09T14:44:46.737990Z"
    }
   },
   "cell_type": "code",
   "source": [
    "# Generator expression\n",
    "SumSquares = sum(i**2 for i in range(6))"
   ],
   "id": "3d39eb5c193e37d2",
   "outputs": [],
   "execution_count": 6
  },
  {
   "metadata": {
    "ExecuteTime": {
     "end_time": "2025-07-09T14:42:47.248547Z",
     "start_time": "2025-07-09T14:42:47.243940Z"
    }
   },
   "cell_type": "code",
   "source": "pairs = [(i, j) for j in range(4) for i in range(j)]",
   "id": "a9d5601b8486a2c5",
   "outputs": [],
   "execution_count": 3
  },
  {
   "metadata": {
    "ExecuteTime": {
     "end_time": "2025-07-09T14:43:34.956137Z",
     "start_time": "2025-07-09T14:43:34.951443Z"
    }
   },
   "cell_type": "code",
   "source": "Nonsquares = [i for i in range(10) if i not in squares]",
   "id": "78685086e93622ee",
   "outputs": [],
   "execution_count": 4
  },
  {
   "metadata": {},
   "cell_type": "markdown",
   "source": [
    "The Gurobi interface takes advantage of lists, list comprehension and generator expressions:\n",
    "\n",
    "A Gurobi class to store lists of tuples"
   ],
   "id": "d182be260457bbf1"
  },
  {
   "metadata": {
    "ExecuteTime": {
     "end_time": "2025-07-09T14:47:37.114508Z",
     "start_time": "2025-07-09T14:47:37.107542Z"
    }
   },
   "cell_type": "code",
   "source": [
    "Cities = ['A', 'B', 'C', 'D']\n",
    "Routes = tuplelist([('A', 'B'), ('A', 'C'), ('B', 'C'), ('B', 'D'), ('C', 'D')])"
   ],
   "id": "e46ee553226d91c1",
   "outputs": [],
   "execution_count": 8
  },
  {
   "metadata": {},
   "cell_type": "markdown",
   "source": "What makes it special: select statement for efficient filtering",
   "id": "f2b0c609e6d3b30c"
  },
  {
   "metadata": {
    "ExecuteTime": {
     "end_time": "2025-07-09T14:48:38.728680Z",
     "start_time": "2025-07-09T14:48:38.724319Z"
    }
   },
   "cell_type": "code",
   "source": [
    "for c in Cities:\n",
    "    print(Routes.select(c, '*'))"
   ],
   "id": "c34feecca2ac40f6",
   "outputs": [
    {
     "name": "stdout",
     "output_type": "stream",
     "text": [
      "<gurobi.tuplelist (2 tuples, 2 values each):\n",
      " ( A , B )\n",
      " ( A , C )\n",
      ">\n",
      "<gurobi.tuplelist (2 tuples, 2 values each):\n",
      " ( B , C )\n",
      " ( B , D )\n",
      ">\n",
      "<gurobi.tuplelist (1 tuples, 2 values each):\n",
      " ( C , D )\n",
      ">\n",
      "[]\n"
     ]
    }
   ],
   "execution_count": 9
  },
  {
   "metadata": {},
   "cell_type": "markdown",
   "source": "The tuplelist is indexed to make select() efficient",
   "id": "69663073b7013302"
  },
  {
   "metadata": {},
   "cell_type": "markdown",
   "source": "### Indexed variables: Model.addVars",
   "id": "be0a4cc83a6c359e"
  },
  {
   "metadata": {
    "ExecuteTime": {
     "end_time": "2025-07-09T14:56:52.691020Z",
     "start_time": "2025-07-09T14:56:52.673157Z"
    }
   },
   "cell_type": "code",
   "source": [
    "# Using integers\n",
    "m = Model(\"model 1\")\n",
    "x = m.addVars(2, 3, name = 'x')\n",
    "x"
   ],
   "id": "3f63748311029fb9",
   "outputs": [
    {
     "name": "stdout",
     "output_type": "stream",
     "text": [
      "Set parameter Username\n",
      "Set parameter LicenseID to value 2588857\n",
      "Academic license - for non-commercial use only - expires 2025-11-22\n"
     ]
    },
    {
     "data": {
      "text/plain": [
       "{(0, 0): <gurobi.Var *Awaiting Model Update*>,\n",
       " (0, 1): <gurobi.Var *Awaiting Model Update*>,\n",
       " (0, 2): <gurobi.Var *Awaiting Model Update*>,\n",
       " (1, 0): <gurobi.Var *Awaiting Model Update*>,\n",
       " (1, 1): <gurobi.Var *Awaiting Model Update*>,\n",
       " (1, 2): <gurobi.Var *Awaiting Model Update*>}"
      ]
     },
     "execution_count": 10,
     "metadata": {},
     "output_type": "execute_result"
    }
   ],
   "execution_count": 10
  },
  {
   "metadata": {
    "ExecuteTime": {
     "end_time": "2025-07-09T14:57:58.629178Z",
     "start_time": "2025-07-09T14:57:58.621191Z"
    }
   },
   "cell_type": "code",
   "source": [
    "# Using lists of scalars\n",
    "m = Model(\"model 2\")\n",
    "y = m.addVars(Cities, Cities, name = 'y')\n",
    "y"
   ],
   "id": "18f4a45a6f9bed85",
   "outputs": [
    {
     "data": {
      "text/plain": [
       "{('A', 'A'): <gurobi.Var *Awaiting Model Update*>,\n",
       " ('A', 'B'): <gurobi.Var *Awaiting Model Update*>,\n",
       " ('A', 'C'): <gurobi.Var *Awaiting Model Update*>,\n",
       " ('A', 'D'): <gurobi.Var *Awaiting Model Update*>,\n",
       " ('B', 'A'): <gurobi.Var *Awaiting Model Update*>,\n",
       " ('B', 'B'): <gurobi.Var *Awaiting Model Update*>,\n",
       " ('B', 'C'): <gurobi.Var *Awaiting Model Update*>,\n",
       " ('B', 'D'): <gurobi.Var *Awaiting Model Update*>,\n",
       " ('C', 'A'): <gurobi.Var *Awaiting Model Update*>,\n",
       " ('C', 'B'): <gurobi.Var *Awaiting Model Update*>,\n",
       " ('C', 'C'): <gurobi.Var *Awaiting Model Update*>,\n",
       " ('C', 'D'): <gurobi.Var *Awaiting Model Update*>,\n",
       " ('D', 'A'): <gurobi.Var *Awaiting Model Update*>,\n",
       " ('D', 'B'): <gurobi.Var *Awaiting Model Update*>,\n",
       " ('D', 'C'): <gurobi.Var *Awaiting Model Update*>,\n",
       " ('D', 'D'): <gurobi.Var *Awaiting Model Update*>}"
      ]
     },
     "execution_count": 12,
     "metadata": {},
     "output_type": "execute_result"
    }
   ],
   "execution_count": 12
  },
  {
   "metadata": {
    "ExecuteTime": {
     "end_time": "2025-07-09T14:58:49.865688Z",
     "start_time": "2025-07-09T14:58:49.858886Z"
    }
   },
   "cell_type": "code",
   "source": [
    "# Using a tuplelist\n",
    "z = m.addVars(Routes, name = 'z')\n",
    "z"
   ],
   "id": "ba563e4db98e2ac1",
   "outputs": [
    {
     "data": {
      "text/plain": [
       "{('A', 'B'): <gurobi.Var *Awaiting Model Update*>,\n",
       " ('A', 'C'): <gurobi.Var *Awaiting Model Update*>,\n",
       " ('B', 'C'): <gurobi.Var *Awaiting Model Update*>,\n",
       " ('B', 'D'): <gurobi.Var *Awaiting Model Update*>,\n",
       " ('C', 'D'): <gurobi.Var *Awaiting Model Update*>}"
      ]
     },
     "execution_count": 13,
     "metadata": {},
     "output_type": "execute_result"
    }
   ],
   "execution_count": 13
  },
  {
   "metadata": {
    "ExecuteTime": {
     "end_time": "2025-07-09T14:59:55.966837Z",
     "start_time": "2025-07-09T14:59:55.960300Z"
    }
   },
   "cell_type": "code",
   "source": [
    "# Using a generator expression(!)\n",
    "w = m.addVars((i for i in range(5) if i != 2), name = 'w')\n",
    "w"
   ],
   "id": "86b31b323d20df6f",
   "outputs": [
    {
     "data": {
      "text/plain": [
       "{0: <gurobi.Var *Awaiting Model Update*>,\n",
       " 1: <gurobi.Var *Awaiting Model Update*>,\n",
       " 3: <gurobi.Var *Awaiting Model Update*>,\n",
       " 4: <gurobi.Var *Awaiting Model Update*>}"
      ]
     },
     "execution_count": 14,
     "metadata": {},
     "output_type": "execute_result"
    }
   ],
   "execution_count": 14
  },
  {
   "metadata": {},
   "cell_type": "code",
   "outputs": [],
   "execution_count": null,
   "source": "",
   "id": "6d22b0d13f49a994"
  }
 ],
 "metadata": {
  "kernelspec": {
   "display_name": "Python 3",
   "language": "python",
   "name": "python3"
  },
  "language_info": {
   "codemirror_mode": {
    "name": "ipython",
    "version": 2
   },
   "file_extension": ".py",
   "mimetype": "text/x-python",
   "name": "python",
   "nbconvert_exporter": "python",
   "pygments_lexer": "ipython2",
   "version": "2.7.6"
  }
 },
 "nbformat": 4,
 "nbformat_minor": 5
}
