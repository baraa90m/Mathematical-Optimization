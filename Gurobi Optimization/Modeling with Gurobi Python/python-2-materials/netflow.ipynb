{
 "cells": [
  {
   "cell_type": "markdown",
   "metadata": {
    "deletable": true,
    "editable": true,
    "nbpresent": {
     "id": "9871a869-6285-43e5-b93a-55d4906af818"
    },
    "slideshow": {
     "slide_type": "slide"
    }
   },
   "source": [
    "# netflow.py\n",
    "Solve a multicommodity flow model using Gurobi Optimizer.\n",
    "\n",
    "\n",
    "## List data\n",
    "  0. Commodities (products)\n",
    "  0. Nodes in the network\n",
    "  0. Arcs in the network"
   ]
  },
  {
   "cell_type": "code",
   "execution_count": 1,
   "metadata": {
    "deletable": true,
    "editable": true
   },
   "outputs": [],
   "source": [
    "from gurobipy import *\n",
    "\n",
    "commodities = ['Pencils', 'Pens']\n",
    "nodes = ['Detroit', 'Denver', 'Boston', 'New York', 'Seattle']\n",
    "arcs = [\n",
    "  ('Detroit', 'Boston'), ('Detroit', 'New York'), ('Detroit', 'Seattle'),\n",
    "  ('Denver',  'Boston'), ('Denver',  'New York'), ('Denver',  'Seattle')]"
   ]
  },
  {
   "cell_type": "markdown",
   "metadata": {
    "deletable": true,
    "editable": true
   },
   "source": [
    "## Indexed data\n",
    "  0. Capacity: indexed by arcs\n",
    "  0. Cost: indexed by commodities and arcs\n",
    "  0. Inflow: indexed by commodities and nodes"
   ]
  },
  {
   "cell_type": "code",
   "execution_count": 4,
   "metadata": {
    "collapsed": false,
    "deletable": true,
    "editable": true,
    "jupyter": {
     "outputs_hidden": false
    }
   },
   "outputs": [],
   "source": [
    "# Maximum transport quantity (of all products together) per route\n",
    "capacity = {\n",
    "  ('Detroit', 'Boston'):   100,\n",
    "  ('Detroit', 'New York'):  80,\n",
    "  ('Detroit', 'Seattle'):  120,\n",
    "  ('Denver',  'Boston'):   120,\n",
    "  ('Denver',  'New York'): 120,\n",
    "  ('Denver',  'Seattle'):  120 }\n",
    "\n",
    "# Cost per transported unit of a specific product on a route\n",
    "cost = {\n",
    "  ('Pencils', 'Detroit', 'Boston'):   10,  ('Pens', 'Detroit', 'Boston'):   20,\n",
    "  ('Pencils', 'Detroit', 'New York'): 20,  ('Pens', 'Detroit', 'New York'): 20,\n",
    "  ('Pencils', 'Detroit', 'Seattle'):  60,  ('Pens', 'Detroit', 'Seattle'):  80,\n",
    "  ('Pencils', 'Denver',  'Boston'):   40,  ('Pens', 'Denver',  'Boston'):   60,\n",
    "  ('Pencils', 'Denver',  'New York'): 40,  ('Pens', 'Denver',  'New York'): 70,\n",
    "  ('Pencils', 'Denver',  'Seattle'):  30,  ('Pens', 'Denver',  'Seattle'):  30 }\n",
    "\n",
    "# Inflow is which is the amount of flow at each node of the network and that is also indexed by\n",
    "# a combination of the commedity and the nodes.\n",
    "# We have 5 nodes and 2 commedities, so we have 10 different inflow values.\n",
    "# The inflow is the value or the availability of pencils in the node Detroit is 50, \n",
    "# and the availabilty of pens in the same node of Detroit is 60.\n",
    "inflow = {\n",
    "  ('Pencils', 'Detroit'):   50,  ('Pens', 'Detroit'):   60,\n",
    "  ('Pencils', 'Denver'):    60,  ('Pens', 'Denver'):    40,\n",
    "  ('Pencils', 'Boston'):   -50,  ('Pens', 'Boston'):   -40,\n",
    "  ('Pencils', 'New York'): -50,  ('Pens', 'New York'): -30,\n",
    "  ('Pencils', 'Seattle'):  -10,  ('Pens', 'Seattle'):  -30 }"
   ]
  },
  {
   "cell_type": "code",
   "execution_count": 6,
   "metadata": {
    "collapsed": false,
    "deletable": true,
    "editable": true,
    "jupyter": {
     "outputs_hidden": false
    }
   },
   "outputs": [
    {
     "name": "stdout",
     "output_type": "stream",
     "text": [
      "Inflow Pencils Detroit: 50\n",
      "Inflow Pencils Denver: 60\n",
      "Inflow Pencils Boston: -50\n",
      "Inflow Pencils New York: -50\n",
      "Inflow Pencils Seattle: -10\n",
      "Inflow Pens Detroit: 60\n",
      "Inflow Pens Denver: 40\n",
      "Inflow Pens Boston: -40\n",
      "Inflow Pens New York: -30\n",
      "Inflow Pens Seattle: -30\n"
     ]
    }
   ],
   "source": [
    "for h in commodities:\n",
    "    for c in nodes:\n",
    "        print(\"Inflow \" + h + \" \" + c + \": \" + str(inflow[h,c]))"
   ]
  },
  {
   "cell_type": "markdown",
   "metadata": {
    "deletable": true,
    "editable": true,
    "nbpresent": {
     "id": "fb882cb5-31d9-4459-8d41-7e588c002d7a"
    }
   },
   "source": [
    "## Create model, decision variables and objective\n",
    "\n",
    "- Use `Model.addVars()` to add the decision variables\n",
    "- With two arguments, it takes the cross product of the commodities and the arcs"
   ]
  },
  {
   "cell_type": "code",
   "execution_count": 9,
   "metadata": {
    "deletable": true,
    "editable": true,
    "nbpresent": {
     "id": "316b1245-d440-4399-9067-ed369e9f43d7"
    }
   },
   "outputs": [
    {
     "name": "stdout",
     "output_type": "stream",
     "text": [
      "Set parameter Username\n",
      "Set parameter LicenseID to value 2588857\n",
      "Academic license - for non-commercial use only - expires 2025-11-22\n"
     ]
    },
    {
     "data": {
      "text/plain": [
       "{('Pencils', 'Detroit', 'Boston'): <gurobi.Var *Awaiting Model Update*>,\n",
       " ('Pencils', 'Detroit', 'New York'): <gurobi.Var *Awaiting Model Update*>,\n",
       " ('Pencils', 'Detroit', 'Seattle'): <gurobi.Var *Awaiting Model Update*>,\n",
       " ('Pencils', 'Denver', 'Boston'): <gurobi.Var *Awaiting Model Update*>,\n",
       " ('Pencils', 'Denver', 'New York'): <gurobi.Var *Awaiting Model Update*>,\n",
       " ('Pencils', 'Denver', 'Seattle'): <gurobi.Var *Awaiting Model Update*>,\n",
       " ('Pens', 'Detroit', 'Boston'): <gurobi.Var *Awaiting Model Update*>,\n",
       " ('Pens', 'Detroit', 'New York'): <gurobi.Var *Awaiting Model Update*>,\n",
       " ('Pens', 'Detroit', 'Seattle'): <gurobi.Var *Awaiting Model Update*>,\n",
       " ('Pens', 'Denver', 'Boston'): <gurobi.Var *Awaiting Model Update*>,\n",
       " ('Pens', 'Denver', 'New York'): <gurobi.Var *Awaiting Model Update*>,\n",
       " ('Pens', 'Denver', 'Seattle'): <gurobi.Var *Awaiting Model Update*>}"
      ]
     },
     "execution_count": 9,
     "metadata": {},
     "output_type": "execute_result"
    }
   ],
   "source": [
    "m = Model(\"netflow\")\n",
    "\n",
    "flow = m.addVars(commodities, arcs, obj=cost, name=\"flow\")\n",
    "flow"
   ]
  },
  {
   "cell_type": "markdown",
   "metadata": {
    "deletable": true,
    "editable": true,
    "nbpresent": {
     "id": "38ecdc9b-5475-4dc9-b629-cf7ae63de1a5"
    }
   },
   "source": [
    "## Create constraints\n",
    "\n",
    "- Use `Model.addConstrs()` to add the constraints\n",
    "- Uses two **Python Generator expressions**\n",
    "    - To generate an arc capacity constraint for every arc _i,j_\n",
    "    - To generate a flow conservation constraint for every commodity _h_ and every node _j_\n",
    "- Inside each constraint, uses the aggregate operator `tupledict.sum()` to compute the sum over only the matching elements"
   ]
  },
  {
   "cell_type": "code",
   "execution_count": 12,
   "metadata": {
    "collapsed": false,
    "deletable": true,
    "editable": true,
    "jupyter": {
     "outputs_hidden": false
    },
    "nbpresent": {
     "id": "7885be96-851c-47d4-a4ca-b89af6fb29fd"
    }
   },
   "outputs": [],
   "source": [
    "# Arc capacities\n",
    "cap = m.addConstrs(\n",
    "    (flow.sum('*', i, j) <= capacity[i,j] for i,j in arcs), \"cap\")\n",
    "\n",
    "# Flow conservation\n",
    "node = m.addConstrs(\n",
    "    (flow.sum(h, '*', j) + inflow[h,j] == flow.sum(h,j,'*')\n",
    "    for h in commodities for j in nodes), \"node\")"
   ]
  },
  {
   "cell_type": "code",
   "execution_count": 14,
   "metadata": {},
   "outputs": [
    {
     "data": {
      "text/plain": [
       "{('Detroit', 'Boston'): <gurobi.Constr *Awaiting Model Update*>,\n",
       " ('Detroit', 'New York'): <gurobi.Constr *Awaiting Model Update*>,\n",
       " ('Detroit', 'Seattle'): <gurobi.Constr *Awaiting Model Update*>,\n",
       " ('Denver', 'Boston'): <gurobi.Constr *Awaiting Model Update*>,\n",
       " ('Denver', 'New York'): <gurobi.Constr *Awaiting Model Update*>,\n",
       " ('Denver', 'Seattle'): <gurobi.Constr *Awaiting Model Update*>}"
      ]
     },
     "execution_count": 14,
     "metadata": {},
     "output_type": "execute_result"
    }
   ],
   "source": [
    "cap"
   ]
  },
  {
   "cell_type": "code",
   "execution_count": 16,
   "metadata": {},
   "outputs": [
    {
     "data": {
      "text/plain": [
       "{('Pencils', 'Detroit'): <gurobi.Constr *Awaiting Model Update*>,\n",
       " ('Pencils', 'Denver'): <gurobi.Constr *Awaiting Model Update*>,\n",
       " ('Pencils', 'Boston'): <gurobi.Constr *Awaiting Model Update*>,\n",
       " ('Pencils', 'New York'): <gurobi.Constr *Awaiting Model Update*>,\n",
       " ('Pencils', 'Seattle'): <gurobi.Constr *Awaiting Model Update*>,\n",
       " ('Pens', 'Detroit'): <gurobi.Constr *Awaiting Model Update*>,\n",
       " ('Pens', 'Denver'): <gurobi.Constr *Awaiting Model Update*>,\n",
       " ('Pens', 'Boston'): <gurobi.Constr *Awaiting Model Update*>,\n",
       " ('Pens', 'New York'): <gurobi.Constr *Awaiting Model Update*>,\n",
       " ('Pens', 'Seattle'): <gurobi.Constr *Awaiting Model Update*>}"
      ]
     },
     "execution_count": 16,
     "metadata": {},
     "output_type": "execute_result"
    }
   ],
   "source": [
    "node"
   ]
  },
  {
   "cell_type": "markdown",
   "metadata": {
    "deletable": true,
    "editable": true,
    "nbpresent": {
     "id": "0521bba9-d638-4842-ae9c-a3cf5c54dc98"
    }
   },
   "source": [
    "## Solve and print the flows"
   ]
  },
  {
   "cell_type": "code",
   "execution_count": 19,
   "metadata": {
    "collapsed": false,
    "deletable": true,
    "editable": true,
    "jupyter": {
     "outputs_hidden": false
    },
    "nbpresent": {
     "id": "344eed33-6224-4ba8-9c15-a7914dcc1e1c"
    }
   },
   "outputs": [
    {
     "name": "stdout",
     "output_type": "stream",
     "text": [
      "Gurobi Optimizer version 12.0.0 build v12.0.0rc1 (win64 - Windows 11.0 (26100.2))\n",
      "\n",
      "CPU model: Intel(R) Core(TM) i7-10510U CPU @ 1.80GHz, instruction set [SSE2|AVX|AVX2]\n",
      "Thread count: 4 physical cores, 8 logical processors, using up to 8 threads\n",
      "\n",
      "Optimize a model with 16 rows, 12 columns and 36 nonzeros\n",
      "Model fingerprint: 0xc43e5943\n",
      "Coefficient statistics:\n",
      "  Matrix range     [1e+00, 1e+00]\n",
      "  Objective range  [1e+01, 8e+01]\n",
      "  Bounds range     [0e+00, 0e+00]\n",
      "  RHS range        [1e+01, 1e+02]\n",
      "Presolve removed 16 rows and 12 columns\n",
      "Presolve time: 0.01s\n",
      "Presolve: All rows and columns removed\n",
      "Iteration    Objective       Primal Inf.    Dual Inf.      Time\n",
      "       0    5.5000000e+03   0.000000e+00   2.000000e+01      0s\n",
      "Extra simplex iterations after uncrush: 1\n",
      "       1    5.5000000e+03   0.000000e+00   0.000000e+00      0s\n",
      "\n",
      "Solved in 1 iterations and 0.02 seconds (0.00 work units)\n",
      "Optimal objective  5.500000000e+03\n",
      "\n",
      "    Variable            X \n",
      "-------------------------\n",
      "flow[Pencils,Detroit,Boston]           50 \n",
      "flow[Pencils,Denver,New York]           50 \n",
      "flow[Pencils,Denver,Seattle]           10 \n",
      "flow[Pens,Detroit,Boston]           30 \n",
      "flow[Pens,Detroit,New York]           30 \n",
      "flow[Pens,Denver,Boston]           10 \n",
      "flow[Pens,Denver,Seattle]           30 \n"
     ]
    }
   ],
   "source": [
    "m.optimize()\n",
    "m.printAttr('X')"
   ]
  },
  {
   "cell_type": "markdown",
   "metadata": {
    "deletable": true,
    "editable": true
   },
   "source": [
    "## Output\n",
    "Display the solution as a chart and as a table"
   ]
  },
  {
   "cell_type": "code",
   "execution_count": 22,
   "metadata": {},
   "outputs": [
    {
     "ename": "NameError",
     "evalue": "name 'keys' is not defined",
     "output_type": "error",
     "traceback": [
      "\u001b[1;31m---------------------------------------------------------------------------\u001b[0m",
      "\u001b[1;31mNameError\u001b[0m                                 Traceback (most recent call last)",
      "Cell \u001b[1;32mIn[22], line 5\u001b[0m\n\u001b[0;32m      1\u001b[0m \u001b[38;5;28;01mimport\u001b[39;00m \u001b[38;5;21;01mmatplotlib\u001b[39;00m\u001b[38;5;21;01m.\u001b[39;00m\u001b[38;5;21;01mpyplot\u001b[39;00m \u001b[38;5;28;01mas\u001b[39;00m \u001b[38;5;21;01mplt\u001b[39;00m\n\u001b[0;32m      2\u001b[0m \u001b[38;5;28;01mimport\u001b[39;00m \u001b[38;5;21;01mpandas\u001b[39;00m \u001b[38;5;28;01mas\u001b[39;00m \u001b[38;5;21;01mpd\u001b[39;00m\n\u001b[0;32m      4\u001b[0m df \u001b[38;5;241m=\u001b[39m pd\u001b[38;5;241m.\u001b[39mDataFrame({\n\u001b[1;32m----> 5\u001b[0m     \u001b[38;5;124m'\u001b[39m\u001b[38;5;124marcs\u001b[39m\u001b[38;5;124m'\u001b[39m: [\u001b[38;5;124m\"\u001b[39m\u001b[38;5;132;01m%s\u001b[39;00m\u001b[38;5;124m-\u001b[39m\u001b[38;5;132;01m%s\u001b[39;00m\u001b[38;5;124m\"\u001b[39m \u001b[38;5;241m%\u001b[39m (i,j) \u001b[38;5;28;01mfor\u001b[39;00m h,i,j \u001b[38;5;129;01min\u001b[39;00m keys],\n\u001b[0;32m      6\u001b[0m     \u001b[38;5;124m'\u001b[39m\u001b[38;5;124mcommodities\u001b[39m\u001b[38;5;124m'\u001b[39m: [h \u001b[38;5;28;01mfor\u001b[39;00m h,i,j \u001b[38;5;129;01min\u001b[39;00m keys],\n\u001b[0;32m      7\u001b[0m     \u001b[38;5;124m'\u001b[39m\u001b[38;5;124mflow\u001b[39m\u001b[38;5;124m'\u001b[39m: [flow[h,i,j]\u001b[38;5;241m.\u001b[39mX \u001b[38;5;28;01mfor\u001b[39;00m h,i,j \u001b[38;5;129;01min\u001b[39;00m keys]\n\u001b[0;32m      8\u001b[0m })\n\u001b[0;32m     10\u001b[0m pivot_df \u001b[38;5;241m=\u001b[39m df\u001b[38;5;241m.\u001b[39mpivot(index\u001b[38;5;241m=\u001b[39m\u001b[38;5;124m'\u001b[39m\u001b[38;5;124marcs\u001b[39m\u001b[38;5;124m'\u001b[39m, columns\u001b[38;5;241m=\u001b[39m\u001b[38;5;124m'\u001b[39m\u001b[38;5;124mcommodities\u001b[39m\u001b[38;5;124m'\u001b[39m, values\u001b[38;5;241m=\u001b[39m\u001b[38;5;124m'\u001b[39m\u001b[38;5;124mflow\u001b[39m\u001b[38;5;124m'\u001b[39m)\n\u001b[0;32m     11\u001b[0m pivot_df\u001b[38;5;241m.\u001b[39mplot(kind\u001b[38;5;241m=\u001b[39m\u001b[38;5;124m'\u001b[39m\u001b[38;5;124mbar\u001b[39m\u001b[38;5;124m'\u001b[39m, stacked\u001b[38;5;241m=\u001b[39m\u001b[38;5;28;01mTrue\u001b[39;00m)\n",
      "\u001b[1;31mNameError\u001b[0m: name 'keys' is not defined"
     ]
    }
   ],
   "source": [
    "import matplotlib.pyplot as plt\n",
    "import pandas as pd\n",
    "\n",
    "df = pd.DataFrame({\n",
    "    'arcs': [\"%s-%s\" % (i,j) for h,i,j in keys],\n",
    "    'commodities': [h for h,i,j in keys],\n",
    "    'flow': [flow[h,i,j].X for h,i,j in keys]\n",
    "})\n",
    "\n",
    "pivot_df = df.pivot(index='arcs', columns='commodities', values='flow')\n",
    "pivot_df.plot(kind='bar', stacked=True)\n",
    "plt.show()"
   ]
  },
  {
   "cell_type": "code",
   "execution_count": null,
   "metadata": {
    "collapsed": false,
    "deletable": true,
    "editable": true,
    "jupyter": {
     "outputs_hidden": false
    }
   },
   "outputs": [],
   "source": [
    "from bokeh.charts import *\n",
    "output_notebook()\n",
    "\n",
    "keys = sorted(flow.keys())\n",
    "data = {\n",
    "    'arcs': [\"%s-%s\"% (i,j) for h,i,j in keys],\n",
    "    'commodities': [h for h,i,j in keys],\n",
    "    'flow': [flow[h,i,j].X for h,i,j in keys],\n",
    "    'use': [flow[h,i,j].X/capacity[i,j] for h,i,j in keys],\n",
    "}\n",
    "bar = Bar(data, values='flow', label='arcs', stack='commodities', title=\"Network flow\")\n",
    "show(bar)"
   ]
  },
  {
   "cell_type": "code",
   "execution_count": 25,
   "metadata": {
    "collapsed": false,
    "deletable": true,
    "editable": true,
    "jupyter": {
     "outputs_hidden": false
    }
   },
   "outputs": [
    {
     "name": "stderr",
     "output_type": "stream",
     "text": [
      "C:\\Users\\bmohammad\\AppData\\Local\\Temp\\ipykernel_18204\\1750227924.py:6: FutureWarning: ChainedAssignmentError: behaviour will change in pandas 3.0!\n",
      "You are setting values through chained assignment. Currently this works in certain cases, but when using Copy-on-Write (which will become the default behaviour in pandas 3.0) this will never work to update the original DataFrame or Series, because the intermediate object on which we are setting values will behave as a copy.\n",
      "A typical example is when you are setting values in a column of a DataFrame, like:\n",
      "\n",
      "df[\"col\"][row_indexer] = value\n",
      "\n",
      "Use `df.loc[row_indexer, \"col\"] = values` instead, to perform the assignment in a single step and ensure this keeps updating the original `df`.\n",
      "\n",
      "See the caveats in the documentation: https://pandas.pydata.org/pandas-docs/stable/user_guide/indexing.html#returning-a-view-versus-a-copy\n",
      "\n",
      "  df[h][i,j] = flow[h,i,j].X\n"
     ]
    },
    {
     "data": {
      "text/html": [
       "<div>\n",
       "<style scoped>\n",
       "    .dataframe tbody tr th:only-of-type {\n",
       "        vertical-align: middle;\n",
       "    }\n",
       "\n",
       "    .dataframe tbody tr th {\n",
       "        vertical-align: top;\n",
       "    }\n",
       "\n",
       "    .dataframe thead th {\n",
       "        text-align: right;\n",
       "    }\n",
       "</style>\n",
       "<table border=\"1\" class=\"dataframe\">\n",
       "  <thead>\n",
       "    <tr style=\"text-align: right;\">\n",
       "      <th></th>\n",
       "      <th></th>\n",
       "      <th>Pencils</th>\n",
       "      <th>Pens</th>\n",
       "    </tr>\n",
       "    <tr>\n",
       "      <th>origin</th>\n",
       "      <th>destination</th>\n",
       "      <th></th>\n",
       "      <th></th>\n",
       "    </tr>\n",
       "  </thead>\n",
       "  <tbody>\n",
       "    <tr>\n",
       "      <th rowspan=\"3\" valign=\"top\">Denver</th>\n",
       "      <th>Boston</th>\n",
       "      <td>0.0</td>\n",
       "      <td>10.0</td>\n",
       "    </tr>\n",
       "    <tr>\n",
       "      <th>New York</th>\n",
       "      <td>50.0</td>\n",
       "      <td>0.0</td>\n",
       "    </tr>\n",
       "    <tr>\n",
       "      <th>Seattle</th>\n",
       "      <td>10.0</td>\n",
       "      <td>30.0</td>\n",
       "    </tr>\n",
       "    <tr>\n",
       "      <th rowspan=\"3\" valign=\"top\">Detroit</th>\n",
       "      <th>Boston</th>\n",
       "      <td>50.0</td>\n",
       "      <td>30.0</td>\n",
       "    </tr>\n",
       "    <tr>\n",
       "      <th>New York</th>\n",
       "      <td>0.0</td>\n",
       "      <td>30.0</td>\n",
       "    </tr>\n",
       "    <tr>\n",
       "      <th>Seattle</th>\n",
       "      <td>0.0</td>\n",
       "      <td>0.0</td>\n",
       "    </tr>\n",
       "  </tbody>\n",
       "</table>\n",
       "</div>"
      ],
      "text/plain": [
       "                    Pencils  Pens\n",
       "origin  destination              \n",
       "Denver  Boston          0.0  10.0\n",
       "        New York       50.0   0.0\n",
       "        Seattle        10.0  30.0\n",
       "Detroit Boston         50.0  30.0\n",
       "        New York        0.0  30.0\n",
       "        Seattle         0.0   0.0"
      ]
     },
     "execution_count": 25,
     "metadata": {},
     "output_type": "execute_result"
    }
   ],
   "source": [
    "import pandas as pd\n",
    "mi = pd.MultiIndex.from_tuples(sorted(list(arcs)), names=('origin','destination'))\n",
    "df = pd.DataFrame(index=mi, columns=commodities)\n",
    "for h in commodities:\n",
    "    for i,j in arcs:\n",
    "        df[h][i,j] = flow[h,i,j].X\n",
    "\n",
    "df"
   ]
  },
  {
   "cell_type": "markdown",
   "metadata": {
    "deletable": true,
    "editable": true
   },
   "source": [
    "## Debugging\n",
    "Write the model as an LP file"
   ]
  },
  {
   "cell_type": "code",
   "execution_count": 28,
   "metadata": {
    "collapsed": false,
    "deletable": true,
    "editable": true,
    "jupyter": {
     "outputs_hidden": false
    }
   },
   "outputs": [
    {
     "name": "stdout",
     "output_type": "stream",
     "text": [
      "Warning: variable name \"flow[Pencils,Detroit,New York]\" has a space\n",
      "Warning: constraint name \"cap[Detroit,New York]\" has a space\n",
      "Warning: to let Gurobi read it back, use rlp format\n"
     ]
    }
   ],
   "source": [
    "m.write(\"netflow.lp\")"
   ]
  },
  {
   "cell_type": "code",
   "execution_count": null,
   "metadata": {},
   "outputs": [],
   "source": []
  }
 ],
 "metadata": {
  "anaconda-cloud": {
   "attach-environment": false,
   "environment": null,
   "summary": "Sample network flow",
   "url": "https://anaconda.org/gglockner/netflow"
  },
  "kernelspec": {
   "display_name": "Python 3 (ipykernel)",
   "language": "python",
   "name": "python3"
  },
  "language_info": {
   "codemirror_mode": {
    "name": "ipython",
    "version": 3
   },
   "file_extension": ".py",
   "mimetype": "text/x-python",
   "name": "python",
   "nbconvert_exporter": "python",
   "pygments_lexer": "ipython3",
   "version": "3.12.4"
  },
  "nbpresent": {
   "slides": {
    "622c7359-7d19-4291-a322-1fbcaa288ef0": {
     "id": "622c7359-7d19-4291-a322-1fbcaa288ef0",
     "prev": "e607b445-87c8-42bd-8010-43f04345bcb5",
     "regions": {}
    },
    "814d0cc7-122d-49f6-967a-a4a8f57d383c": {
     "id": "814d0cc7-122d-49f6-967a-a4a8f57d383c",
     "prev": "622c7359-7d19-4291-a322-1fbcaa288ef0",
     "regions": {
      "f14faa71-c001-44c1-be63-0bb67b525a57": {
       "attrs": {
        "height": 1,
        "width": 1,
        "x": 0,
        "y": 0
       },
       "id": "f14faa71-c001-44c1-be63-0bb67b525a57"
      }
     }
    },
    "e607b445-87c8-42bd-8010-43f04345bcb5": {
     "id": "e607b445-87c8-42bd-8010-43f04345bcb5",
     "prev": null,
     "regions": {}
    }
   },
   "themes": {}
  }
 },
 "nbformat": 4,
 "nbformat_minor": 4
}
