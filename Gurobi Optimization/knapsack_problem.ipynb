{
 "cells": [
  {
   "metadata": {},
   "cell_type": "markdown",
   "source": [
    "### Integer Programming\n",
    "* All decision variables are integers.\n",
    "* Binary integer programming: Variables are restricted to be either 1 or 0.\n",
    "\n",
    "### Binary Knapsack Problem\n",
    "* Combinatorial optimization problem.\n",
    "* Problem of packing the most valuable or useful items without overloading the luggage.\n",
    "  + A set of items $\\mathbb(N)$ items, each with a weight ($w$) and a value ($v$).\n",
    "  + Fixed capacity.\n",
    "  + Maximaize the total value possible."
   ],
   "id": "8e7f000af913e744"
  },
  {
   "metadata": {},
   "cell_type": "markdown",
   "source": "### Problem Formulation",
   "id": "ece90981054cb32a"
  },
  {
   "metadata": {},
   "cell_type": "markdown",
   "source": [
    "\\begin{align*}\n",
    "\\text{maximize} \\quad & \\sum_{i=0}^{N-1} v_i x_i \\\\\n",
    "\\text{subject to} \\quad & \\sum_{i=0}^{N-1} w_i x_i \\leq C \\\\\n",
    "& x_i \\in \\{0,1\\} \\quad \\forall i = 0, \\dots, N-1\n",
    "\\end{align*}"
   ],
   "id": "8025553f33dbf872"
  },
  {
   "metadata": {},
   "cell_type": "markdown",
   "source": "### Coding in Python",
   "id": "ee9b8f7ca3d79c34"
  },
  {
   "metadata": {
    "ExecuteTime": {
     "end_time": "2025-06-12T11:27:11.436273Z",
     "start_time": "2025-06-12T11:27:11.427772Z"
    }
   },
   "cell_type": "code",
   "source": [
    "# create the data \n",
    "w = [4, 2, 5, 4, 5, 1, 3, 5]\n",
    "v = [10, 5, 18, 12, 15, 1, 2, 8]\n",
    "C = 15\n",
    "N = len(w)"
   ],
   "id": "a5e744b16115bdc2",
   "outputs": [],
   "execution_count": 1
  },
  {
   "metadata": {
    "ExecuteTime": {
     "end_time": "2025-06-12T11:38:37.727729Z",
     "start_time": "2025-06-12T11:38:37.711822Z"
    }
   },
   "cell_type": "code",
   "source": [
    "from gurobipy import *\n",
    "\n",
    "# create a model\n",
    "knapsack_model = Model('knapsack')\n",
    "\n",
    "# add variables\n",
    "x = knapsack_model.addVars(N, vtype=GRB.BINARY, name = 'x')\n",
    "\n",
    "# Set the objective function\n",
    "obj_fn = sum(v[i]*x[i] for i in range(N))\n",
    "knapsack_model.setObjective(obj_fn, GRB.MAXIMIZE)\n",
    "\n",
    "# add the constraints\n",
    "knapsack_model.addConstr(sum(w[i]*x[i] for i in range(N)) <= C)\n",
    "\n",
    "# solve the model\n",
    "knapsack_model.setParam('OutputFlag', False)\n",
    "knapsack_model.optimize()\n",
    "\n",
    "# output the results \n",
    "print('-------------------------------------------------------------------------')\n",
    "print('Optimization is done. Objective Function Value: %.2f' % knapsack_model.objVal)\n",
    "\n",
    "# get the values of the decision variables\n",
    "for v in knapsack_model.getVars():\n",
    "    print('%s: %g' % (v.varName, v.x))"
   ],
   "id": "25c38a386b2f90f",
   "outputs": [
    {
     "name": "stdout",
     "output_type": "stream",
     "text": [
      "-------------------------------------------------------------------------\n",
      "Optimization is done. Objective Function Value: 46.00\n",
      "x[0]: 0\n",
      "x[1]: 0\n",
      "x[2]: 1\n",
      "x[3]: 1\n",
      "x[4]: 1\n",
      "x[5]: 1\n",
      "x[6]: 0\n",
      "x[7]: 0\n"
     ]
    }
   ],
   "execution_count": 7
  }
 ],
 "metadata": {
  "kernelspec": {
   "display_name": "Python 3",
   "language": "python",
   "name": "python3"
  },
  "language_info": {
   "codemirror_mode": {
    "name": "ipython",
    "version": 2
   },
   "file_extension": ".py",
   "mimetype": "text/x-python",
   "name": "python",
   "nbconvert_exporter": "python",
   "pygments_lexer": "ipython2",
   "version": "2.7.6"
  }
 },
 "nbformat": 4,
 "nbformat_minor": 5
}
