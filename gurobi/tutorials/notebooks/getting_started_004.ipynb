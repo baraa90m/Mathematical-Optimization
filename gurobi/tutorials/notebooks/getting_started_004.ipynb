{
 "cells": [
  {
   "cell_type": "markdown",
   "id": "3f284907-3af2-4f1d-a646-ac3dc9438838",
   "metadata": {},
   "source": [
    "### How to Remove and Add Back a Constraint\n",
    "In this notebook, we will learn how to remove a constraint from an existing model and how to add it back later."
   ]
  },
  {
   "cell_type": "markdown",
   "id": "003aab70-4815-4308-aa22-0d68be85c3b9",
   "metadata": {},
   "source": [
    "To better understand the problem, you can view it in the corresponding notebook available on my GitHub account. https://github.com/baraa90m/Mathematical-Optimization/blob/main/Gurobi%20Optimization/Tutorials/milp_RAP_problem_002.ipynb"
   ]
  },
  {
   "cell_type": "markdown",
   "id": "2fcea10a-4526-4df8-bcf1-c08b1c15dffc",
   "metadata": {},
   "source": [
    "\n",
    "\\begin{aligned}\n",
    "&\\text{Maximize} \\\\\n",
    "&\\quad 53\\, \\text{assign}[\\text{Carlos}, \\text{Tester}] + 27\\, \\text{assign}[\\text{Carlos}, \\text{JavaDeveloper}] \\\\\n",
    "&\\quad + 13\\, \\text{assign}[\\text{Carlos}, \\text{Architect}] \\\\\n",
    "&\\quad + 80\\, \\text{assign}[\\text{Joe}, \\text{Tester}] + 47\\, \\text{assign}[\\text{Joe}, \\text{JavaDeveloper}] \\\\\n",
    "&\\quad + 67\\, \\text{assign}[\\text{Joe}, \\text{Architect}] \\\\\n",
    "&\\quad + 53\\, \\text{assign}[\\text{Monika}, \\text{Tester}] + 73\\, \\text{assign}[\\text{Monika}, \\text{JavaDeveloper}] \\\\\n",
    "&\\quad + 47\\, \\text{assign}[\\text{Monika}, \\text{Architect}] \\\\[2ex]\n",
    "&\\text{Subject To} \\\\[1ex]\n",
    "&\\quad \\text{job}[\\text{Tester}]: \\\\\n",
    "&\\qquad \\text{assign}[\\text{Carlos}, \\text{Tester}] + \\text{assign}[\\text{Joe}, \\text{Tester}] + \\text{assign}[\\text{Monika}, \\text{Tester}] = 1 \\\\[1ex]\n",
    "&\\quad \\text{job}[\\text{JavaDeveloper}]: \\\\\n",
    "&\\qquad \\text{assign}[\\text{Carlos}, \\text{JavaDeveloper}] + \\text{assign}[\\text{Joe}, \\text{JavaDeveloper}] \\\\\n",
    "&\\qquad + \\text{assign}[\\text{Monika}, \\text{JavaDeveloper}] = 1 \\\\[1ex]\n",
    "&\\quad \\text{job}[\\text{Architect}]: \\\\\n",
    "&\\qquad \\text{assign}[\\text{Carlos}, \\text{Architect}] + \\text{assign}[\\text{Joe}, \\text{Architect}] \\\\\n",
    "&\\qquad + \\text{assign}[\\text{Monika}, \\text{Architect}] = 1 \\\\[1ex]\n",
    "&\\quad \\text{resource}[\\text{Carlos}]: \\\\\n",
    "&\\qquad \\text{assign}[\\text{Carlos}, \\text{Tester}] + \\text{assign}[\\text{Carlos}, \\text{JavaDeveloper}] \\\\\n",
    "&\\qquad + \\text{assign}[\\text{Carlos}, \\text{Architect}] \\leq 1 \\\\[1ex]\n",
    "&\\quad \\text{resource}[\\text{Joe}]: \\\\\n",
    "&\\qquad \\text{assign}[\\text{Joe}, \\text{Tester}] + \\text{assign}[\\text{Joe}, \\text{JavaDeveloper}] \\\\\n",
    "&\\qquad + \\text{assign}[\\text{Joe}, \\text{Architect}] \\leq 1 \\\\[1ex]\n",
    "&\\quad \\text{resource}[\\text{Monika}]: \\\\\n",
    "&\\qquad \\text{assign}[\\text{Monika}, \\text{Tester}] + \\text{assign}[\\text{Monika}, \\text{JavaDeveloper}] \\\\\n",
    "&\\qquad + \\text{assign}[\\text{Monika}, \\text{Architect}] \\leq 1\n",
    "\\end{aligned}\n"
   ]
  },
  {
   "cell_type": "code",
   "execution_count": 1,
   "id": "66ae91fa-0270-4784-baf8-c580d6db71e2",
   "metadata": {},
   "outputs": [],
   "source": [
    "import gurobipy as gp\n",
    "from gurobipy import GRB"
   ]
  },
  {
   "cell_type": "markdown",
   "id": "631a33dd-3942-4104-b6c0-7ed769597f4d",
   "metadata": {},
   "source": [
    "#### Import the saved model:\n",
    "The problem we are working with has already been solved and saved in models/RAP.lp.\n",
    "\n",
    "We now simply need to load it and continue by removing and re-adding a constraint."
   ]
  },
  {
   "cell_type": "code",
   "execution_count": 4,
   "id": "c01f45af-8548-499b-bc3b-43743c496e3b",
   "metadata": {},
   "outputs": [
    {
     "name": "stdout",
     "output_type": "stream",
     "text": [
      "Set parameter Username\n",
      "Set parameter LicenseID to value 2588857\n",
      "Academic license - for non-commercial use only - expires 2025-11-22\n",
      "Read LP format model from file models/RAP.lp\n",
      "Reading time = 0.00 seconds\n",
      ": 6 rows, 9 columns, 18 nonzeros\n"
     ]
    }
   ],
   "source": [
    "m = gp.read('models/RAP.lp')"
   ]
  },
  {
   "cell_type": "code",
   "execution_count": 6,
   "id": "253db140-3a9f-4664-ae61-5285b5993f3a",
   "metadata": {},
   "outputs": [
    {
     "name": "stdout",
     "output_type": "stream",
     "text": [
      "Gurobi Optimizer version 12.0.0 build v12.0.0rc1 (win64 - Windows 11.0 (26100.2))\n",
      "\n",
      "CPU model: Intel(R) Core(TM) i7-10510U CPU @ 1.80GHz, instruction set [SSE2|AVX|AVX2]\n",
      "Thread count: 4 physical cores, 8 logical processors, using up to 8 threads\n",
      "\n",
      "Optimize a model with 6 rows, 9 columns and 18 nonzeros\n",
      "Model fingerprint: 0xb343b6eb\n",
      "Coefficient statistics:\n",
      "  Matrix range     [1e+00, 1e+00]\n",
      "  Objective range  [1e+01, 8e+01]\n",
      "  Bounds range     [0e+00, 0e+00]\n",
      "  RHS range        [1e+00, 1e+00]\n",
      "Presolve time: 0.00s\n",
      "Presolved: 6 rows, 9 columns, 18 nonzeros\n",
      "\n",
      "Iteration    Objective       Primal Inf.    Dual Inf.      Time\n",
      "       0    4.6000000e+32   1.800000e+31   4.600000e+02      0s\n",
      "       5    1.9300000e+02   0.000000e+00   0.000000e+00      0s\n",
      "\n",
      "Solved in 5 iterations and 0.01 seconds (0.00 work units)\n",
      "Optimal objective  1.930000000e+02\n"
     ]
    }
   ],
   "source": [
    "# Run optimization engine\n",
    "m.optimize()"
   ]
  },
  {
   "cell_type": "code",
   "execution_count": 8,
   "id": "b4b9916b-077a-4254-881b-5ddb8a9719ef",
   "metadata": {},
   "outputs": [
    {
     "name": "stdout",
     "output_type": "stream",
     "text": [
      "assign[Carlos,Tester] 1.0\n",
      "assign[Joe,Architect] 1.0\n",
      "assign[Monika,JavaDeveloper] 1.0\n",
      "Total matching score:  193.0\n"
     ]
    }
   ],
   "source": [
    "# Display optimal values of decision variables\n",
    "for v in m.getVars():\n",
    "    if v.x > 1e-6:\n",
    "        print(v.varName, v.x)\n",
    "\n",
    "# Display optimal total matching score\n",
    "print('Total matching score: ', m.objVal)"
   ]
  },
  {
   "cell_type": "markdown",
   "id": "bd81ecb2-15ae-4975-a2fe-d36e47a3378f",
   "metadata": {},
   "source": [
    "#### Removing the constraint for job[Tester]:"
   ]
  },
  {
   "cell_type": "code",
   "execution_count": 10,
   "id": "dc4bd8c4-7167-4d59-9a0d-61ffd62a8b68",
   "metadata": {},
   "outputs": [
    {
     "data": {
      "text/plain": [
       "<gurobi.Constr job[Tester]>"
      ]
     },
     "execution_count": 10,
     "metadata": {},
     "output_type": "execute_result"
    }
   ],
   "source": [
    "c = m.getConstrs()[0]\n",
    "c"
   ]
  },
  {
   "cell_type": "code",
   "execution_count": 12,
   "id": "b161866b-6024-4428-828f-71df892b225f",
   "metadata": {},
   "outputs": [],
   "source": [
    "lhs, sense, rhs, name = m.getRow(c), c.Sense, c.RHS, c.ConstrName\n",
    "m.remove(c)"
   ]
  },
  {
   "cell_type": "code",
   "execution_count": 14,
   "id": "a2969b81-8a34-4314-be20-b2537c4f33be",
   "metadata": {},
   "outputs": [
    {
     "name": "stdout",
     "output_type": "stream",
     "text": [
      "Statistics for unnamed model:\n",
      "  Problem type                : LP\n",
      "  Linear constraint matrix    : 5 rows, 9 columns, 15 nonzeros\n",
      "  Variable types              : 9 continuous, 0 integer (0 binary)\n",
      "  Matrix range                : [1e+00, 1e+00]\n",
      "  Objective range             : [1e+01, 8e+01]\n",
      "  Bounds range                : [0e+00, 0e+00]\n",
      "  RHS range                   : [1e+00, 1e+00]\n"
     ]
    }
   ],
   "source": [
    "# Show the current state\n",
    "m.update()\n",
    "m.printStats()"
   ]
  },
  {
   "cell_type": "code",
   "execution_count": 16,
   "id": "0109e9ee-fd2f-4696-ab02-359b7e61a1e6",
   "metadata": {},
   "outputs": [
    {
     "data": {
      "text/plain": [
       "[<gurobi.Constr job[JavaDeveloper]>,\n",
       " <gurobi.Constr job[Architect]>,\n",
       " <gurobi.Constr resource[Carlos]>,\n",
       " <gurobi.Constr resource[Joe]>,\n",
       " <gurobi.Constr resource[Monika]>]"
      ]
     },
     "execution_count": 16,
     "metadata": {},
     "output_type": "execute_result"
    }
   ],
   "source": [
    "m.getConstrs()"
   ]
  },
  {
   "cell_type": "markdown",
   "id": "73a359d0-70de-4733-8947-950360f7bc99",
   "metadata": {},
   "source": [
    "We notice  that the constraint for Tester-job is removed."
   ]
  },
  {
   "cell_type": "markdown",
   "id": "76d3c64a-2043-4170-814c-95b23ccd0b54",
   "metadata": {},
   "source": [
    "#### Re-adding the Removed Constraint:"
   ]
  },
  {
   "cell_type": "code",
   "execution_count": 24,
   "id": "5878170e-a446-4e84-a03d-d6ee426946b5",
   "metadata": {
    "scrolled": true
   },
   "outputs": [],
   "source": [
    "c = m.addConstr(lhs == rhs, name)"
   ]
  },
  {
   "cell_type": "code",
   "execution_count": 26,
   "id": "245053e1-89c5-4a5e-958b-535c9af77195",
   "metadata": {},
   "outputs": [
    {
     "name": "stdout",
     "output_type": "stream",
     "text": [
      "Statistics for unnamed model:\n",
      "  Problem type                : LP\n",
      "  Linear constraint matrix    : 6 rows, 9 columns, 18 nonzeros\n",
      "  Variable types              : 9 continuous, 0 integer (0 binary)\n",
      "  Matrix range                : [1e+00, 1e+00]\n",
      "  Objective range             : [1e+01, 8e+01]\n",
      "  Bounds range                : [0e+00, 0e+00]\n",
      "  RHS range                   : [1e+00, 1e+00]\n"
     ]
    }
   ],
   "source": [
    "# Show the current state\n",
    "m.update()\n",
    "m.printStats()"
   ]
  },
  {
   "cell_type": "code",
   "execution_count": 28,
   "id": "d1a20e78-b7e9-4d1d-b3cc-641896ee3129",
   "metadata": {},
   "outputs": [
    {
     "name": "stdout",
     "output_type": "stream",
     "text": [
      "Freeing default Gurobi environment\n"
     ]
    }
   ],
   "source": [
    "m.dispose()\n",
    "gp.disposeDefaultEnv()"
   ]
  },
  {
   "cell_type": "code",
   "execution_count": null,
   "id": "88c3ddf2-c16e-4697-ab18-ce589d6a54bf",
   "metadata": {},
   "outputs": [],
   "source": []
  }
 ],
 "metadata": {
  "kernelspec": {
   "display_name": "Python 3 (ipykernel)",
   "language": "python",
   "name": "python3"
  },
  "language_info": {
   "codemirror_mode": {
    "name": "ipython",
    "version": 3
   },
   "file_extension": ".py",
   "mimetype": "text/x-python",
   "name": "python",
   "nbconvert_exporter": "python",
   "pygments_lexer": "ipython3",
   "version": "3.12.4"
  }
 },
 "nbformat": 4,
 "nbformat_minor": 5
}
