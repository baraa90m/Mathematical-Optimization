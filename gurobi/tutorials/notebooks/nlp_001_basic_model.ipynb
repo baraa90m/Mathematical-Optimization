{
 "cells": [
  {
   "cell_type": "markdown",
   "id": "30336c9ba44ca27a",
   "metadata": {},
   "source": [
    "### Quadratic Programming\n",
    "* Mathematical optimization problem with quadratic functions.\n",
    "* Developed in the 1950s.\n",
    "* Widely used in:\n",
    "    - Optimization of financial portfolios,\n",
    "    - Image and signal processing,\n",
    "    - Regression,\n",
    "    - Scheduling in chemical plants, etc., \n",
    "* Solution methods:\n",
    "    - Interior method,\n",
    "    - Augmented Lagrange,\n",
    "    - Gradient-based,\n",
    "    - Extensions of the simplex algorithm.\n",
    "        "
   ]
  },
  {
   "cell_type": "markdown",
   "id": "c21d63ce2c1d2029",
   "metadata": {},
   "source": [
    "### Problem Formulation\n",
    "Our objective is to find $\\mathbf{x} \\in \\mathbb{R}^n$ in the following problem:\n",
    "\n",
    "\n",
    "\\begin{aligned}\n",
    "\\text{minimize} \\quad & \\frac{1}{2} \\mathbf{x}^T Q \\mathbf{x} + \\mathbf{c}^T \\mathbf{x}, \\\\\n",
    "\\text{subject to} \\quad & A \\mathbf{x} \\leq \\mathbf{b},\n",
    "\\end{aligned}\n",
    "\n",
    "\n",
    "where:\n",
    "\n",
    "- $\\mathbf{c} \\in \\mathbb{R}^n$\n",
    "- $Q \\in \\mathbb{R}^{n \\times n}$\n",
    "- $A \\in \\mathbb{R}^{m \\times n}$\n",
    "- $\\mathbf{b} \\in \\mathbb{R}^m$"
   ]
  },
  {
   "cell_type": "markdown",
   "id": "86bdc55f284948fd",
   "metadata": {},
   "source": [
    "<U>Example:</U><br>\n",
    "We consider the following minimization problem:\n",
    "\n",
    "\\begin{aligned}\n",
    "\\text{minimize} \\quad & x^2 + 2y^2 + \\frac{1}{2}z^2 \\\\\n",
    "\\text{subject to} \\quad \n",
    "& x + 3y + 2z \\geq 5, \\\\\n",
    "& y + z \\geq 2.5, \\\\\n",
    "& x, y \\geq 0, \\\\\n",
    "& y \\in \\mathbb{Z}, \\\\\n",
    "& z \\in \\{0, 1\\}\n",
    "\\end{aligned}\n"
   ]
  },
  {
   "cell_type": "code",
   "execution_count": 4,
   "id": "c3232e427bde66fd",
   "metadata": {
    "ExecuteTime": {
     "end_time": "2025-06-12T12:12:10.566107Z",
     "start_time": "2025-06-12T12:12:10.556018Z"
    }
   },
   "outputs": [
    {
     "name": "stdout",
     "output_type": "stream",
     "text": [
      "Optimization is done. Objective Function value: 8.50\n",
      "x: 0\n",
      "y: 2\n",
      "z: 1\n"
     ]
    }
   ],
   "source": [
    "from gurobipy import *\n",
    "\n",
    "# create the model\n",
    "quadratic_model = Model('quadratic')\n",
    "\n",
    "# add the variables\n",
    "x = quadratic_model.addVar(vtype=GRB.CONTINUOUS, lb = 0, name = 'x')\n",
    "y = quadratic_model.addVar(vtype=GRB.INTEGER, lb = 0, name = 'y')\n",
    "z = quadratic_model.addVar(vtype=GRB.BINARY, name = 'z')\n",
    "\n",
    "# set the objective function\n",
    "obj_fn = x**2 + 2*y**2 + 0.5*z**2\n",
    "quadratic_model.setObjective(obj_fn, GRB.MINIMIZE)\n",
    "\n",
    "# add the constraints\n",
    "quadratic_model.addConstr(x + 3*y + 2*z >= 5, name = 'c1')\n",
    "quadratic_model.addConstr(y + z >= 2.5, name = 'c2')\n",
    "\n",
    "# solve the model\n",
    "quadratic_model.setParam('OutputFlag', False)   # Put this on False so that \"No output during optimisation\"\n",
    "quadratic_model.optimize()\n",
    "\n",
    "print('Optimization is done. Objective Function value: %.2f' % quadratic_model.objVal)\n",
    "\n",
    "# get results of the decision variables\n",
    "for v in quadratic_model.getVars():\n",
    "    print('%s: %g' % (v.varName, v.x))"
   ]
  },
  {
   "cell_type": "markdown",
   "id": "1a7f4278d08b0265",
   "metadata": {},
   "source": [
    "### Extras: Update the type of a decision variable\n",
    "We will change the requirement of integrality on the decision variable $y$."
   ]
  },
  {
   "cell_type": "code",
   "execution_count": 6,
   "id": "365c4cc72125d759",
   "metadata": {
    "ExecuteTime": {
     "end_time": "2025-06-12T12:16:24.395789Z",
     "start_time": "2025-06-12T12:16:24.385853Z"
    }
   },
   "outputs": [
    {
     "name": "stdout",
     "output_type": "stream",
     "text": [
      "Optimization is done. Objective Function value: 5.00\n",
      "x: 0\n",
      "y: 1.5\n",
      "z: 1\n"
     ]
    }
   ],
   "source": [
    "y.vtype = GRB.CONTINUOUS\n",
    "quadratic_model.optimize()\n",
    "\n",
    "print('Optimization is done. Objective Function value: %.2f' % quadratic_model.objVal)\n",
    "\n",
    "# get results of the decision variables\n",
    "for v in quadratic_model.getVars():\n",
    "    print('%s: %g' % (v.varName, v.x))"
   ]
  },
  {
   "cell_type": "markdown",
   "id": "eab1f27f79a24d6e",
   "metadata": {},
   "source": [
    "### Extras: Add a quadratic constraint\n",
    "We will add a quadratic constraint: $x^2 \\geq y^2 + z^2$"
   ]
  },
  {
   "cell_type": "code",
   "execution_count": 13,
   "id": "95397b6a3bc78c25",
   "metadata": {
    "ExecuteTime": {
     "end_time": "2025-06-12T12:19:19.596189Z",
     "start_time": "2025-06-12T12:19:19.581Z"
    }
   },
   "outputs": [
    {
     "name": "stdout",
     "output_type": "stream",
     "text": [
      "Optimization is done. Objective Function value: 8.25\n",
      "x: 1.8\n",
      "y: 1.5\n",
      "z: 1\n"
     ]
    }
   ],
   "source": [
    "quadratic_model.addConstr(z**2 + y**2 <= x**2)\n",
    "quadratic_model.optimize()\n",
    "print('Optimization is done. Objective Function value: %.2f' % quadratic_model.objVal)\n",
    "\n",
    "# get results of the decision variables\n",
    "for v in quadratic_model.getVars():\n",
    "    print('%s: %g' % (v.varName, round(v.x, 2)))"
   ]
  },
  {
   "cell_type": "code",
   "execution_count": null,
   "id": "9a353d04d7209a8f",
   "metadata": {},
   "outputs": [],
   "source": []
  }
 ],
 "metadata": {
  "kernelspec": {
   "display_name": "Python 3 (ipykernel)",
   "language": "python",
   "name": "python3"
  },
  "language_info": {
   "codemirror_mode": {
    "name": "ipython",
    "version": 3
   },
   "file_extension": ".py",
   "mimetype": "text/x-python",
   "name": "python",
   "nbconvert_exporter": "python",
   "pygments_lexer": "ipython3",
   "version": "3.12.4"
  }
 },
 "nbformat": 4,
 "nbformat_minor": 5
}
