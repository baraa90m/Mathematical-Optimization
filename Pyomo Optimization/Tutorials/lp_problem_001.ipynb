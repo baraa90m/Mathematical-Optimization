{
 "cells": [
  {
   "cell_type": "markdown",
   "id": "c302349e-624b-4989-b509-f38aded67fb2",
   "metadata": {},
   "source": [
    "*Pyomo Optimization Problem Set, Spring 2022*\n",
    "- Collin Guidry"
   ]
  },
  {
   "cell_type": "code",
   "execution_count": 2,
   "id": "8198592b-7f18-4cf8-9e3c-79ed7885ef02",
   "metadata": {},
   "outputs": [],
   "source": [
    "import matplotlib.pyplot as plt\n",
    "import math\n",
    "import pandas as pd\n",
    "import numpy as np\n",
    "from pyomo.environ import *\n",
    "from pyomo.opt import SolverFactory\n",
    "\n",
    "solver = SolverFactory(\"ipopt\")    # loads the non-linear optimiser \"IPOPT\""
   ]
  },
  {
   "cell_type": "markdown",
   "id": "cda238ee-408e-4101-a314-309c6d0ab07b",
   "metadata": {},
   "source": [
    "## Question\n",
    "\n",
    "Hiland Appliance must determine how many TVs and Blu-Ray disc players to stock. It costs Hiland \\\\$1000 to purchase a TV and \\\\$200 to purchase a Blu-Ray player. A TV requires three square yards of storage space, and a Blu-ray disc player requires one square yard. The sale of a TV earns Hiland a profit of \\\\$150, and each Blu-ray disc player sale earns a profit of \\\\$50. Hiland has set the following goals (listed in order of importance):\n",
    "\n",
    "- Goal 1: A maximum of \\\\$60,000 can be spent on purchasing TVs and Blu-ray disc players.\n",
    "- Goal 2: Maximize profit from the sale of TVs and Blu-ray disc players.\n",
    "- Goal 3: Minimize storage space for TVs and Blu-ray disc players."
   ]
  },
  {
   "cell_type": "markdown",
   "id": "29ce9a77-6b96-4dff-a1d9-4f5b0330ca58",
   "metadata": {},
   "source": [
    "### Part (a): Formulate the problem \n",
    "\n",
    "Formulate a multi-objective optimization problem that reflects the relative importance of the three goals, stating clearly your\n",
    "\n",
    "- Decision variables\n",
    "- Objective function\n",
    "- Constraints"
   ]
  },
  {
   "cell_type": "markdown",
   "id": "f9b92adc-0c16-44de-ad59-f5531f201acf",
   "metadata": {},
   "source": [
    "<span style=\"color:green\"> \n",
    "**DV** \n",
    "- $x_1$= TV disc players to stock \n",
    "- $x_2$= Blue-Ray disc players to stock \n",
    " \n",
    "\n",
    "**OF**\n",
    "- max profit = $f_1= 150x_1 + 50x_2$\n",
    "- min storage = $f_2= 3x_1 +x_2$\n",
    "\n",
    "\n",
    "**Constraints**\n",
    "- $1000x_1 + 200x_2\\leq 60000$ (budget)\n",
    "- $x_1, x_2 \\geq0$\n"
   ]
  },
  {
   "cell_type": "markdown",
   "id": "906d42e2-4b69-4bc2-b594-22546e59df88",
   "metadata": {},
   "source": [
    "### Part (b): Find Pareto-optimal points\n",
    "\n",
    "Find at least one Pareto-optimal solution using Pyomo and IPOPT. Use comments to explain how your code reflects the relative importance of the three goals. "
   ]
  },
  {
   "cell_type": "code",
   "execution_count": 5,
   "id": "e620ea55-0f22-4df8-8860-aea6e09b0b84",
   "metadata": {},
   "outputs": [],
   "source": [
    "# create a model\n",
    "model = ConcreteModel()\n",
    "\n",
    "# define variables\n",
    "model.x1 = Var(bounds = (0, 100))\n",
    "model.x2 = Var(bounds = (0, 300))\n",
    "\n",
    "# define constraint\n",
    "model.ConBudget = Constraint(expr = 1000*model.x1 + 200*model.x2 <= 60000)\n",
    "\n",
    "# define constraint & objective\n",
    "model.profit = Var()\n",
    "model.space = Var()\n",
    "model.ConProfit = Constraint(expr = model.profit == 150*model.x1 + 50*model.x2)\n",
    "model.ConSpace = Constraint(expr = model.space == 3*model.x1 + model.x2)\n",
    "\n",
    "# define objective\n",
    "model.MaxProfit = Objective(expr = model.profit, sense = maximize)\n",
    "model.MinSpace = Objective(expr = model.space, sense = minimize)               "
   ]
  },
  {
   "cell_type": "code",
   "execution_count": 6,
   "id": "dba82f42-e3f4-4697-807d-e66949f6d257",
   "metadata": {},
   "outputs": [],
   "source": [
    "# Lexicographic method\n",
    "# deactivate MinSpace objective\n",
    "model.MinSpace.deactivate()\n",
    "\n",
    "# solve for maximized profit\n",
    "solver.solve(model)\n",
    "\n",
    "# save maximum profit value\n",
    "profit_max = value(model.profit)\n",
    "\n",
    "# add constraint for profit. Do not allow this profit level to decrease\n",
    "model.constr_profit = Constraint(expr = model.profit >= profit_max)\n",
    "\n",
    "# deactivate MaxProfit objective\n",
    "model.MaxProfit.deactivate()\n",
    "\n",
    "# activate MinSpace objective\n",
    "model.MinSpace.activate()\n",
    "\n",
    "# solve for minimized space\n",
    "solver.solve(model)\n",
    "\n",
    "# store values\n",
    "profit = value(model.profit)\n",
    "space = value(model.space)\n",
    "\n",
    "# \n",
    "tvs = value(model.x1)\n",
    "blu_ray = value(model.x2)\n",
    "\n",
    "total_cost = 1000*tvs + 200*blu_ray"
   ]
  },
  {
   "cell_type": "code",
   "execution_count": 7,
   "id": "56f45147-86f9-48f8-b6f9-c33b96e312e6",
   "metadata": {},
   "outputs": [
    {
     "name": "stdout",
     "output_type": "stream",
     "text": [
      "Total Cost: 60000.00\n",
      "Maximum possible profit: 15000.00\n",
      "\n",
      "\n",
      "Pareto optimal profit: 15000.00\n",
      "Pareto optimal space: 300.00\n",
      "\n",
      "\n",
      "TVs Purchased: 0.00\n",
      "Blueray players purchased: 300.00\n"
     ]
    }
   ],
   "source": [
    "print(\"Total Cost: {:.2f}\".format(total_cost) )\n",
    "print(\"Maximum possible profit: {:.2f}\".format(profit_max) )\n",
    "print('\\n')\n",
    "print(\"Pareto optimal profit: {:.2f}\".format(profit) )\n",
    "print(\"Pareto optimal space: {:.2f}\".format(space) )\n",
    "print('\\n')\n",
    "print(\"TVs Purchased: {:.2f}\".format(tvs) )\n",
    "print(\"Blueray players purchased: {:.2f}\".format(blu_ray) )"
   ]
  },
  {
   "cell_type": "code",
   "execution_count": null,
   "id": "0afc7b45-7ad0-4112-b677-b77deac71186",
   "metadata": {},
   "outputs": [],
   "source": []
  }
 ],
 "metadata": {
  "kernelspec": {
   "display_name": "Python 3 (ipykernel)",
   "language": "python",
   "name": "python3"
  },
  "language_info": {
   "codemirror_mode": {
    "name": "ipython",
    "version": 3
   },
   "file_extension": ".py",
   "mimetype": "text/x-python",
   "name": "python",
   "nbconvert_exporter": "python",
   "pygments_lexer": "ipython3",
   "version": "3.12.11"
  }
 },
 "nbformat": 4,
 "nbformat_minor": 5
}
