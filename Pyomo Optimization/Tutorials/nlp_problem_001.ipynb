{
 "cells": [
  {
   "cell_type": "markdown",
   "metadata": {
    "id": "X9qoTHjP6H_x"
   },
   "source": [
    "*Pyomo Optimization Problem Set, Spring 2022*\n",
    "- Collin Guidry"
   ]
  },
  {
   "cell_type": "code",
   "execution_count": 1,
   "metadata": {
    "id": "KZV3id4s6H_z"
   },
   "outputs": [],
   "source": [
    "import matplotlib.pyplot as plt\n",
    "import math\n",
    "import pandas as pd\n",
    "import numpy as np\n",
    "from pyomo.environ import *\n",
    "from pyomo.opt import SolverFactory\n",
    "\n",
    "solver = SolverFactory(\"ipopt\")    # loads the non-linear optimiser \"IPOPT\""
   ]
  },
  {
   "cell_type": "markdown",
   "metadata": {
    "id": "Y91_Cr9x6H_2"
   },
   "source": [
    "## Question: Profit vs Units Sold\n",
    "\n",
    "A startup company needs to increase its sales of a product through advertisements. If the company spends $a$ (measured in thousands of dollars) on advertising and charges a price of $p=10+0.38a$ dollars per unit, then it can sell $1000-10p+20\\sqrt{a}$  units of the product. The cost per unit of producing the product is $6. Help the company find at least 10 Pareto-optimal solutions and plot the Pareto-optimal frontier between the objectives of maximizing profit and maximizing the number of units sold."
   ]
  },
  {
   "cell_type": "markdown",
   "metadata": {
    "id": "88Hel1jc6H_2"
   },
   "source": [
    "### Part (a) Problem Formulation\n",
    "\n",
    "Formulate a multi-objective optimization problem, stating clearly your\n",
    "\n",
    "1. Decision variables\n",
    "2. Objective function\n",
    "3. Constraints"
   ]
  },
  {
   "cell_type": "markdown",
   "metadata": {
    "id": "B72iQtnY6H_3"
   },
   "source": [
    "<span style=\"color:green\"> \n",
    "\n",
    "1. Decision Variables\n",
    "  - $ a = $ advertising investment (thousands of dollars)\n",
    "2. Objective function\n",
    "  - $Max :\\ unit sales(a) = f_1(a) $\n",
    "    - $unit sales(a) = 1000-10p+20\\sqrt{a}$\n",
    "    - substitute:\n",
    "      - $ unitsales(a)  = 1000-10(10+0.38a)+20\\sqrt{a} $\n",
    "      - $ unitsales(a) = 890-3.8a+20\\sqrt{a} $\n",
    "    - $ Max :\\ unitsales(a) = f_1(a) = 890-3.8a+20\\sqrt{a} $\n",
    "  - $Max :\\ profit(a) = f_2(a) $\n",
    "    - $ profit = unitsales * margin - investment$\n",
    "    - $ profit = unitsales * (price - 6) - a $\n",
    "    - subsitute:\n",
    "      - $ profit(a) = unitsales * ((10+0.38a) - 6) - a $\n",
    "      - $ profit(a) = (890-3.8a+20\\sqrt{a}) * (4+0.38a) - a $\n",
    "    - $Max :\\ profit(a) = f_2(a) = -1.444a^2 + 7.6\\sqrt{a}*a + 80\\sqrt{a} + 322a +3560) $\n",
    " \n",
    "3. Constraints \n",
    "  - $ a >0 $ "
   ]
  },
  {
   "cell_type": "code",
   "execution_count": 2,
   "metadata": {
    "id": "s4Ee0CHCZwj_"
   },
   "outputs": [],
   "source": [
    "# Initialize model\n",
    "\n",
    "model = ConcreteModel()\n",
    "\n",
    "model.a = Var(initialize=1)\n",
    "\n",
    "model.constr1 = Constraint(expr = model.a >= 0)  # can't have negative investment\n",
    "\n",
    "model.sales = Var()\n",
    "model.consales = Constraint(expr = model.sales == 890 - 3.8*model.a + 20*model.a**.5 ) # sales constraint\n",
    "\n",
    "model.profit = Var()\n",
    "model.conprofit = Constraint(expr = model.profit == -1.444*model.a**2 \n",
    "                             + 7.6*model.a*model.a**.5 \n",
    "                             + 80*model.a**.5 \n",
    "                             +3.524*model.a \n",
    "                             + 3560 ) # profit constraint\n",
    "\n",
    "model.obj_sales = Objective(expr = model.sales, sense = maximize)   # sales objective\n",
    "model.obj_profit = Objective(expr = model.profit, sense = maximize)   # profit objective"
   ]
  },
  {
   "cell_type": "markdown",
   "metadata": {
    "id": "vUEa1CQd6H_3"
   },
   "source": [
    "### Part (b) Determine extreme points\n",
    "\n",
    "As a first step, find the best objective function values for the problem defined in part (a) using Pyomo and IPOPT."
   ]
  },
  {
   "cell_type": "markdown",
   "metadata": {},
   "source": [
    "In Pyomo, only one active objective function can be optimized at a time by default"
   ]
  },
  {
   "cell_type": "code",
   "execution_count": 3,
   "metadata": {},
   "outputs": [
    {
     "name": "stdout",
     "output_type": "stream",
     "text": [
      "Deactivate sales and maximize profit:\n",
      "Sales min: 898.41\n",
      "Profit max: 4099.16\n",
      "----------------------------------------\n",
      "Deactivate profit and maximize sales:\n",
      "Sales max: 916.32\n",
      "Profit min: 3864.18\n"
     ]
    }
   ],
   "source": [
    "print('Deactivate sales and maximize profit:')\n",
    "model.obj_sales.deactivate()\n",
    "solver.solve(model)\n",
    "\n",
    "sales_min = value(model.sales)\n",
    "profit_max = value(model.profit)\n",
    "\n",
    "print(\"Sales min: {:.2f}\".format(sales_min))\n",
    "print(\"Profit max: {:.2f}\".format(profit_max))\n",
    "\n",
    "print(40*'-')\n",
    "\n",
    "print('Deactivate profit and maximize sales:')\n",
    "model.obj_sales.activate()\n",
    "model.obj_profit.deactivate()\n",
    "solver.solve(model)\n",
    "\n",
    "sales_max = value(model.sales)\n",
    "profit_min = value(model.profit)\n",
    "\n",
    "print(\"Sales max: {:.2f}\".format(sales_max))\n",
    "print(\"Profit min: {:.2f}\".format(profit_min))"
   ]
  },
  {
   "cell_type": "markdown",
   "metadata": {
    "id": "HA2hXkl66H_4"
   },
   "source": [
    "### Part (c): Find Pareto-optimal points and plot the Pareto frontier.\n",
    "\n",
    "You need to find at least 10 Pareto-optimal points using Pyomo and IPOPT."
   ]
  },
  {
   "cell_type": "code",
   "execution_count": 4,
   "metadata": {},
   "outputs": [],
   "source": [
    "def run_model_with_limit(w1):\n",
    "    # initialize model\n",
    "    model = ConcreteModel()\n",
    "    \n",
    "    model.a = Var(initialize=1)\n",
    "    model.constr1 = Constraint(expr= model.a >=0) #can't have negative investment\n",
    "\n",
    "    model.sales = Var()\n",
    "    model.consales = Constraint(expr = model.sales == 890 - 3.8*model.a + 20*model.a**.5 )\n",
    "\n",
    "    model.profit = Var()\n",
    "    model.conprofit = Constraint(expr = model.profit == -1.444*model.a**2 \n",
    "                                 + 7.6*model.a*model.a**.5 \n",
    "                                 + 80*model.a**.5 \n",
    "                                 +3.524*model.a \n",
    "                                 + 3560 )\n",
    "    model.obj_profit = Objective(expr=model.profit, sense=maximize)\n",
    "    model.obj_sales = Objective(expr=model.sales, sense=maximize)\n",
    "\n",
    "    #----------------------------------------------------------\n",
    "    # Set profit constraint (depending on parameter w1)\n",
    "    profit_limit = profit_max - (profit_max - profit_min) * w1\n",
    "\n",
    "    # add profit constraint\n",
    "    model.constr_profit = Constraint(expr = model.profit <= profit_limit)\n",
    "\n",
    "    # deactivate sales objective\n",
    "    model.obj_sales.deactivate()\n",
    "\n",
    "    # maximize profit with limit\n",
    "    solver.solve(model)\n",
    "\n",
    "    # deactivate profit limit constraint\n",
    "    model.constr_profit.deactivate()\n",
    "\n",
    "    # add constraint - do not let current level of profit decrease\n",
    "    model.constr_profit1 = Constraint(expr = model.profit >= value(model.profit))\n",
    "\n",
    "    # deactivate profit\n",
    "    model.obj_profit.deactivate()\n",
    "\n",
    "    # reactivate sales\n",
    "    model.obj_sales.activate()\n",
    "\n",
    "    solver.solve(model)\n",
    "\n",
    "    profit = value(model.profit)\n",
    "    sales = value(model.sales)\n",
    "    investment = value(model.a)\n",
    "    \n",
    "    return investment, profit, sales"
   ]
  },
  {
   "cell_type": "code",
   "execution_count": 5,
   "metadata": {},
   "outputs": [
    {
     "data": {
      "text/html": [
       "<div>\n",
       "<style scoped>\n",
       "    .dataframe tbody tr th:only-of-type {\n",
       "        vertical-align: middle;\n",
       "    }\n",
       "\n",
       "    .dataframe tbody tr th {\n",
       "        vertical-align: top;\n",
       "    }\n",
       "\n",
       "    .dataframe thead th {\n",
       "        text-align: right;\n",
       "    }\n",
       "</style>\n",
       "<table border=\"1\" class=\"dataframe\">\n",
       "  <thead>\n",
       "    <tr style=\"text-align: right;\">\n",
       "      <th></th>\n",
       "      <th>Investment</th>\n",
       "      <th>Profit</th>\n",
       "      <th>Sales</th>\n",
       "      <th>pct of potenital profit sacrificed</th>\n",
       "    </tr>\n",
       "  </thead>\n",
       "  <tbody>\n",
       "    <tr>\n",
       "      <th>0</th>\n",
       "      <td>23.053497</td>\n",
       "      <td>4099.157229</td>\n",
       "      <td>898.424826</td>\n",
       "      <td>0.0</td>\n",
       "    </tr>\n",
       "    <tr>\n",
       "      <th>1</th>\n",
       "      <td>18.030012</td>\n",
       "      <td>4075.659825</td>\n",
       "      <td>906.409478</td>\n",
       "      <td>0.1</td>\n",
       "    </tr>\n",
       "    <tr>\n",
       "      <th>2</th>\n",
       "      <td>15.926232</td>\n",
       "      <td>4052.162381</td>\n",
       "      <td>909.295686</td>\n",
       "      <td>0.2</td>\n",
       "    </tr>\n",
       "    <tr>\n",
       "      <th>3</th>\n",
       "      <td>14.303485</td>\n",
       "      <td>4028.664936</td>\n",
       "      <td>911.286654</td>\n",
       "      <td>0.3</td>\n",
       "    </tr>\n",
       "    <tr>\n",
       "      <th>4</th>\n",
       "      <td>12.929759</td>\n",
       "      <td>4005.167492</td>\n",
       "      <td>912.782864</td>\n",
       "      <td>0.4</td>\n",
       "    </tr>\n",
       "    <tr>\n",
       "      <th>5</th>\n",
       "      <td>11.715341</td>\n",
       "      <td>3981.670048</td>\n",
       "      <td>913.937064</td>\n",
       "      <td>0.5</td>\n",
       "    </tr>\n",
       "    <tr>\n",
       "      <th>6</th>\n",
       "      <td>10.614374</td>\n",
       "      <td>3958.172603</td>\n",
       "      <td>914.824795</td>\n",
       "      <td>0.6</td>\n",
       "    </tr>\n",
       "    <tr>\n",
       "      <th>7</th>\n",
       "      <td>9.599774</td>\n",
       "      <td>3934.675159</td>\n",
       "      <td>915.487863</td>\n",
       "      <td>0.7</td>\n",
       "    </tr>\n",
       "    <tr>\n",
       "      <th>8</th>\n",
       "      <td>8.654075</td>\n",
       "      <td>3911.177714</td>\n",
       "      <td>915.950133</td>\n",
       "      <td>0.8</td>\n",
       "    </tr>\n",
       "    <tr>\n",
       "      <th>9</th>\n",
       "      <td>7.765359</td>\n",
       "      <td>3887.680270</td>\n",
       "      <td>916.224423</td>\n",
       "      <td>0.9</td>\n",
       "    </tr>\n",
       "    <tr>\n",
       "      <th>10</th>\n",
       "      <td>6.925306</td>\n",
       "      <td>3864.185647</td>\n",
       "      <td>916.315789</td>\n",
       "      <td>1.0</td>\n",
       "    </tr>\n",
       "  </tbody>\n",
       "</table>\n",
       "</div>"
      ],
      "text/plain": [
       "    Investment       Profit       Sales  pct of potenital profit sacrificed\n",
       "0    23.053497  4099.157229  898.424826                                 0.0\n",
       "1    18.030012  4075.659825  906.409478                                 0.1\n",
       "2    15.926232  4052.162381  909.295686                                 0.2\n",
       "3    14.303485  4028.664936  911.286654                                 0.3\n",
       "4    12.929759  4005.167492  912.782864                                 0.4\n",
       "5    11.715341  3981.670048  913.937064                                 0.5\n",
       "6    10.614374  3958.172603  914.824795                                 0.6\n",
       "7     9.599774  3934.675159  915.487863                                 0.7\n",
       "8     8.654075  3911.177714  915.950133                                 0.8\n",
       "9     7.765359  3887.680270  916.224423                                 0.9\n",
       "10    6.925306  3864.185647  916.315789                                 1.0"
      ]
     },
     "execution_count": 5,
     "metadata": {},
     "output_type": "execute_result"
    }
   ],
   "source": [
    "max_bpt = 10\n",
    "breakpoints = np.array([*range(0,max_bpt+1)])\n",
    "breakpoints= breakpoints/max_bpt\n",
    "\n",
    "\n",
    "investment_ = []\n",
    "profit_ = []\n",
    "sales_ = []\n",
    "\n",
    "# iterate through weights and store the model's results\n",
    "for i in breakpoints:\n",
    "  investment, profit, sales = run_model_with_limit(i)\n",
    "  investment_.append(investment)\n",
    "  profit_.append(profit)\n",
    "  sales_.append(sales)\n",
    "\n",
    "df = pd.DataFrame()\n",
    "df['Investment'] = investment_\n",
    "df['Profit'] = profit_\n",
    "df['Sales'] = sales_\n",
    "df['pct of potenital profit sacrificed'] = breakpoints\n",
    "\n",
    "df"
   ]
  },
  {
   "cell_type": "code",
   "execution_count": 7,
   "metadata": {},
   "outputs": [
    {
     "data": {
      "image/png": "[encoded data removed]",
      "text/plain": [
       "<Figure size 640x480 with 1 Axes>"
      ]
     },
     "metadata": {},
     "output_type": "display_data"
    }
   ],
   "source": [
    "plt.scatter(df['Profit'], df['Sales'], label = 'Solutions')\n",
    "plt.legend()\n",
    "plt.xlabel('Profit')\n",
    "plt.ylabel('Sales')\n",
    "plt.title('Solutions along the paretor frontier')\n",
    "plt.show()"
   ]
  },
  {
   "cell_type": "markdown",
   "metadata": {
    "id": "GW1hBSeS6H_4"
   },
   "source": [
    "### Part (d): Discussion \n",
    "\n",
    "Suppose the startup company now decides that although both objectives are important, maximizing the number of units sold is more important than maximizing profit. What suggestions would you give to the company based on your results in part (b) and (c)?"
   ]
  },
  {
   "cell_type": "markdown",
   "metadata": {
    "id": "FQQ0Rw096H_4"
   },
   "source": [
    "<span style=\"color:green\"> \n",
    "-  As each of the ten solutions are pareto-optimal, no particular solution is dominant over any of the other 9 solutions. For this reason, choosing the optimal point is dependent on what percentage of profit the company is willing to sacrifice to achieve a higher number of units sold.\n",
    "- These solutions were the result of **maximizing profit before sales.** If the company wishes to prioritize sales, they should repeat this weighed sum method, but **maximize sales before profit**.\n",
    "- To decide what percent of potential sales they should sacrifice, they should analyze and compare the resulting solutions to better understand the compromise between the two objectives"
   ]
  }
 ],
 "metadata": {
  "colab": {
   "collapsed_sections": [],
   "name": "Problem Set 2.ipynb",
   "provenance": []
  },
  "kernelspec": {
   "display_name": "Python 3 (ipykernel)",
   "language": "python",
   "name": "python3"
  },
  "language_info": {
   "codemirror_mode": {
    "name": "ipython",
    "version": 3
   },
   "file_extension": ".py",
   "mimetype": "text/x-python",
   "name": "python",
   "nbconvert_exporter": "python",
   "pygments_lexer": "ipython3",
   "version": "3.12.11"
  }
 },
 "nbformat": 4,
 "nbformat_minor": 4
}
